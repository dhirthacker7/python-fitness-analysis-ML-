{
 "cells": [
  {
   "cell_type": "markdown",
   "metadata": {
    "papermill": {
     "duration": 0.035714,
     "end_time": "2020-10-06T09:11:12.452538",
     "exception": false,
     "start_time": "2020-10-06T09:11:12.416824",
     "status": "completed"
    },
    "tags": []
   },
   "source": [
    "# <center><h2>Predictive Analytics Case Study</h2></center>\n",
    "# <center><h3>Analyzing Fitness Survey Data</h3></center>\n",
    "## <center><h4>Ayush Rajguru - 17070122011 | Dhir Thacker - 17070122019</h4></center>\n",
    "## <center><h4>Mark Angelo - 17070122041 | Purav Patel - 17070122052</h4></center>"
   ]
  },
  {
   "cell_type": "markdown",
   "metadata": {},
   "source": [
    "# 1. Importing Libraries and Reading Dataset\n",
    "### Dataset: https://www.kaggle.com/nithilaa/fitness-analysis"
   ]
  },
  {
   "cell_type": "code",
   "execution_count": 470,
   "metadata": {
    "execution": {
     "iopub.execute_input": "2020-10-06T09:11:12.596536Z",
     "iopub.status.busy": "2020-10-06T09:11:12.595768Z",
     "iopub.status.idle": "2020-10-06T09:11:12.598976Z",
     "shell.execute_reply": "2020-10-06T09:11:12.598394Z"
    },
    "papermill": {
     "duration": 0.042145,
     "end_time": "2020-10-06T09:11:12.599093",
     "exception": false,
     "start_time": "2020-10-06T09:11:12.556948",
     "status": "completed"
    },
    "tags": []
   },
   "outputs": [],
   "source": [
    "# Importing necessary libraries and packages\n",
    "\n",
    "import numpy as np\n",
    "import pandas as pd\n",
    "import seaborn as sns\n",
    "import matplotlib.pyplot as plt\n",
    "import missingno as msno\n",
    "import category_encoders as ce\n",
    "%matplotlib inline"
   ]
  },
  {
   "cell_type": "code",
   "execution_count": 471,
   "metadata": {
    "execution": {
     "iopub.execute_input": "2020-10-06T09:11:12.674937Z",
     "iopub.status.busy": "2020-10-06T09:11:12.674240Z",
     "iopub.status.idle": "2020-10-06T09:11:12.702211Z",
     "shell.execute_reply": "2020-10-06T09:11:12.701538Z"
    },
    "papermill": {
     "duration": 0.069286,
     "end_time": "2020-10-06T09:11:12.702343",
     "exception": false,
     "start_time": "2020-10-06T09:11:12.633057",
     "status": "completed"
    },
    "tags": []
   },
   "outputs": [],
   "source": [
    "# Reading the dataset and storing it as a dataframe\n",
    "\n",
    "df=pd.read_csv(\"fitness analysis.csv\")\n",
    "\n"
   ]
  },
  {
   "cell_type": "markdown",
   "metadata": {},
   "source": [
    "# 2. Data Cleaning"
   ]
  },
  {
   "cell_type": "markdown",
   "metadata": {},
   "source": [
    "## 2.1. Viewing the Dataframe Information\n",
    "## 2.2. Checking for any null values in Dataframe (Total and Column-wise)"
   ]
  },
  {
   "cell_type": "code",
   "execution_count": 472,
   "metadata": {
    "execution": {
     "iopub.execute_input": "2020-10-06T09:11:12.792408Z",
     "iopub.status.busy": "2020-10-06T09:11:12.779390Z",
     "iopub.status.idle": "2020-10-06T09:11:12.796904Z",
     "shell.execute_reply": "2020-10-06T09:11:12.795974Z"
    },
    "papermill": {
     "duration": 0.060485,
     "end_time": "2020-10-06T09:11:12.797070",
     "exception": false,
     "start_time": "2020-10-06T09:11:12.736585",
     "status": "completed"
    },
    "tags": []
   },
   "outputs": [
    {
     "name": "stdout",
     "output_type": "stream",
     "text": [
      "<class 'pandas.core.frame.DataFrame'>\n",
      "RangeIndex: 545 entries, 0 to 544\n",
      "Data columns (total 18 columns):\n",
      " #   Column                                                                                                                 Non-Null Count  Dtype  \n",
      "---  ------                                                                                                                 --------------  -----  \n",
      " 0   Timestamp                                                                                                              545 non-null    object \n",
      " 1   Your name                                                                                                              545 non-null    object \n",
      " 2   Your gender                                                                                                            542 non-null    object \n",
      " 3   Your age                                                                                                               541 non-null    object \n",
      " 4   How important is exercise to you ?                                                                                     535 non-null    float64\n",
      " 5   How do you describe your current level of fitness ?                                                                    540 non-null    object \n",
      " 6   How often do you exercise?                                                                                             541 non-null    object \n",
      " 7   What barriers, if any, prevent you from exercising more regularly?           (Please select all that apply)            542 non-null    object \n",
      " 8   What form(s) of exercise do you currently participate in ?                        (Please select all that apply)       540 non-null    object \n",
      " 9   Do you exercise ___________ ?                                                                                          542 non-null    object \n",
      " 10  What time if the day do you prefer to exercise?                                                                        541 non-null    object \n",
      " 11  How long do you spend exercising per day ?                                                                             541 non-null    object \n",
      " 12  Would you say you eat a healthy balanced diet ?                                                                        543 non-null    object \n",
      " 13  What prevents you from eating a healthy balanced diet, If any?                         (Please select all that apply)  541 non-null    object \n",
      " 14  How healthy do you consider yourself?                                                                                  536 non-null    float64\n",
      " 15  Have you ever recommended your friends to follow a fitness routine?                                                    542 non-null    object \n",
      " 16  Have you ever purchased a fitness equipment?                                                                           542 non-null    object \n",
      " 17  What motivates you to exercise?         (Please select all that applies )                                              541 non-null    object \n",
      "dtypes: float64(2), object(16)\n",
      "memory usage: 76.8+ KB\n",
      "\n",
      "\n",
      "Null Values found in Dataframe: 70\n",
      "\n",
      "Timestamp                                                                                                                 0\n",
      "Your name                                                                                                                 0\n",
      "Your gender                                                                                                               3\n",
      "Your age                                                                                                                  4\n",
      "How important is exercise to you ?                                                                                       10\n",
      "How do you describe your current level of fitness ?                                                                       5\n",
      "How often do you exercise?                                                                                                4\n",
      "What barriers, if any, prevent you from exercising more regularly?           (Please select all that apply)               3\n",
      "What form(s) of exercise do you currently participate in ?                        (Please select all that apply)          5\n",
      "Do you exercise ___________ ?                                                                                             3\n",
      "What time if the day do you prefer to exercise?                                                                           4\n",
      "How long do you spend exercising per day ?                                                                                4\n",
      "Would you say you eat a healthy balanced diet ?                                                                           2\n",
      "What prevents you from eating a healthy balanced diet, If any?                         (Please select all that apply)     4\n",
      "How healthy do you consider yourself?                                                                                     9\n",
      "Have you ever recommended your friends to follow a fitness routine?                                                       3\n",
      "Have you ever purchased a fitness equipment?                                                                              3\n",
      "What motivates you to exercise?         (Please select all that applies )                                                 4\n",
      "dtype: int64\n"
     ]
    }
   ],
   "source": [
    "# Getting info of dataframe and viewing how many null values are present in each of the columns and total\n",
    "\n",
    "df.info()\n",
    "print(\"\\n\\nNull Values found in Dataframe: \" + str(df.isna().sum().sum()) + \"\\n\")\n",
    "print(df.isna().sum())\n",
    "\n"
   ]
  },
  {
   "cell_type": "markdown",
   "metadata": {},
   "source": [
    "## 2.3. Viewing Top 5 Rows of Dataframe"
   ]
  },
  {
   "cell_type": "code",
   "execution_count": 473,
   "metadata": {
    "execution": {
     "iopub.execute_input": "2020-10-06T09:11:12.957765Z",
     "iopub.status.busy": "2020-10-06T09:11:12.955491Z",
     "iopub.status.idle": "2020-10-06T09:11:12.973626Z",
     "shell.execute_reply": "2020-10-06T09:11:12.972976Z"
    },
    "papermill": {
     "duration": 0.067315,
     "end_time": "2020-10-06T09:11:12.973722",
     "exception": false,
     "start_time": "2020-10-06T09:11:12.906407",
     "status": "completed"
    },
    "tags": []
   },
   "outputs": [
    {
     "data": {
      "text/html": [
       "<div>\n",
       "<style scoped>\n",
       "    .dataframe tbody tr th:only-of-type {\n",
       "        vertical-align: middle;\n",
       "    }\n",
       "\n",
       "    .dataframe tbody tr th {\n",
       "        vertical-align: top;\n",
       "    }\n",
       "\n",
       "    .dataframe thead th {\n",
       "        text-align: right;\n",
       "    }\n",
       "</style>\n",
       "<table border=\"1\" class=\"dataframe\">\n",
       "  <thead>\n",
       "    <tr style=\"text-align: right;\">\n",
       "      <th></th>\n",
       "      <th>Timestamp</th>\n",
       "      <th>Your name</th>\n",
       "      <th>Your gender</th>\n",
       "      <th>Your age</th>\n",
       "      <th>How important is exercise to you ?</th>\n",
       "      <th>How do you describe your current level of fitness ?</th>\n",
       "      <th>How often do you exercise?</th>\n",
       "      <th>What barriers, if any, prevent you from exercising more regularly?           (Please select all that apply)</th>\n",
       "      <th>What form(s) of exercise do you currently participate in ?                        (Please select all that apply)</th>\n",
       "      <th>Do you exercise ___________ ?</th>\n",
       "      <th>What time if the day do you prefer to exercise?</th>\n",
       "      <th>How long do you spend exercising per day ?</th>\n",
       "      <th>Would you say you eat a healthy balanced diet ?</th>\n",
       "      <th>What prevents you from eating a healthy balanced diet, If any?                         (Please select all that apply)</th>\n",
       "      <th>How healthy do you consider yourself?</th>\n",
       "      <th>Have you ever recommended your friends to follow a fitness routine?</th>\n",
       "      <th>Have you ever purchased a fitness equipment?</th>\n",
       "      <th>What motivates you to exercise?         (Please select all that applies )</th>\n",
       "    </tr>\n",
       "  </thead>\n",
       "  <tbody>\n",
       "    <tr>\n",
       "      <th>0</th>\n",
       "      <td>2019/07/03 11:48:07 PM GMT+5:30</td>\n",
       "      <td>Parkavi</td>\n",
       "      <td>Female</td>\n",
       "      <td>19 to 25</td>\n",
       "      <td>NaN</td>\n",
       "      <td>Good</td>\n",
       "      <td>Never</td>\n",
       "      <td>I don't have enough time;I can't stay motivated</td>\n",
       "      <td>I don't really exercise</td>\n",
       "      <td>I don't really exercise</td>\n",
       "      <td>Early morning</td>\n",
       "      <td>I don't really exercise</td>\n",
       "      <td>Not always</td>\n",
       "      <td>Ease of access to fast food;Temptation and cra...</td>\n",
       "      <td>3.0</td>\n",
       "      <td>Yes</td>\n",
       "      <td>No</td>\n",
       "      <td>I'm sorry ... I'm not really interested in exe...</td>\n",
       "    </tr>\n",
       "    <tr>\n",
       "      <th>1</th>\n",
       "      <td>2019/07/03 11:51:22 PM GMT+5:30</td>\n",
       "      <td>Nithilaa</td>\n",
       "      <td>Female</td>\n",
       "      <td>19 to 25</td>\n",
       "      <td>4.0</td>\n",
       "      <td>Very good</td>\n",
       "      <td>Never</td>\n",
       "      <td>I don't have enough time;I'll become too tired</td>\n",
       "      <td>Walking or jogging;Swimming</td>\n",
       "      <td>With a group</td>\n",
       "      <td>Early morning</td>\n",
       "      <td>I don't really exercise</td>\n",
       "      <td>Not always</td>\n",
       "      <td>Ease of access to fast food;Temptation and cra...</td>\n",
       "      <td>4.0</td>\n",
       "      <td>Yes</td>\n",
       "      <td>No</td>\n",
       "      <td>I want to be fit;I want to be flexible;I want ...</td>\n",
       "    </tr>\n",
       "    <tr>\n",
       "      <th>2</th>\n",
       "      <td>2019/07/03 11:56:28 PM GMT+5:30</td>\n",
       "      <td>Karunya v</td>\n",
       "      <td>Female</td>\n",
       "      <td>NaN</td>\n",
       "      <td>3.0</td>\n",
       "      <td>Good</td>\n",
       "      <td>1 to 2 times a week</td>\n",
       "      <td>I can't stay motivated</td>\n",
       "      <td>Walking or jogging</td>\n",
       "      <td>Alone</td>\n",
       "      <td>Early morning</td>\n",
       "      <td>30 minutes</td>\n",
       "      <td>Not always</td>\n",
       "      <td>Temptation and cravings</td>\n",
       "      <td>4.0</td>\n",
       "      <td>Yes</td>\n",
       "      <td>Yes</td>\n",
       "      <td>I want to be fit</td>\n",
       "    </tr>\n",
       "    <tr>\n",
       "      <th>3</th>\n",
       "      <td>2019/07/04 5:43:35 AM GMT+5:30</td>\n",
       "      <td>Anusha</td>\n",
       "      <td>Female</td>\n",
       "      <td>15 to 18</td>\n",
       "      <td>4.0</td>\n",
       "      <td>Good</td>\n",
       "      <td>3 to 4 times a week</td>\n",
       "      <td>I don't have enough time</td>\n",
       "      <td>Walking or jogging;Gym;Lifting weights</td>\n",
       "      <td>Alone</td>\n",
       "      <td>Evening</td>\n",
       "      <td>1 hour</td>\n",
       "      <td>Yes</td>\n",
       "      <td>Temptation and cravings</td>\n",
       "      <td>NaN</td>\n",
       "      <td>Yes</td>\n",
       "      <td>No</td>\n",
       "      <td>I want to be fit;I want to lose weight</td>\n",
       "    </tr>\n",
       "    <tr>\n",
       "      <th>4</th>\n",
       "      <td>2019/07/04 5:44:29 AM GMT+5:30</td>\n",
       "      <td>Nikkitha</td>\n",
       "      <td>Female</td>\n",
       "      <td>19 to 25</td>\n",
       "      <td>3.0</td>\n",
       "      <td>Unfit</td>\n",
       "      <td>Never</td>\n",
       "      <td>I can't stay motivated</td>\n",
       "      <td>I don't really exercise</td>\n",
       "      <td>I don't really exercise</td>\n",
       "      <td>Evening</td>\n",
       "      <td>I don't really exercise</td>\n",
       "      <td>Yes</td>\n",
       "      <td>Ease of access to fast food;Temptation and cra...</td>\n",
       "      <td>4.0</td>\n",
       "      <td>Yes</td>\n",
       "      <td>No</td>\n",
       "      <td>I want to be fit</td>\n",
       "    </tr>\n",
       "  </tbody>\n",
       "</table>\n",
       "</div>"
      ],
      "text/plain": [
       "                         Timestamp Your name  Your gender  Your age   \\\n",
       "0  2019/07/03 11:48:07 PM GMT+5:30    Parkavi       Female  19 to 25   \n",
       "1  2019/07/03 11:51:22 PM GMT+5:30   Nithilaa       Female  19 to 25   \n",
       "2  2019/07/03 11:56:28 PM GMT+5:30  Karunya v       Female       NaN   \n",
       "3   2019/07/04 5:43:35 AM GMT+5:30    Anusha        Female  15 to 18   \n",
       "4   2019/07/04 5:44:29 AM GMT+5:30   Nikkitha       Female  19 to 25   \n",
       "\n",
       "   How important is exercise to you ?  \\\n",
       "0                                 NaN   \n",
       "1                                 4.0   \n",
       "2                                 3.0   \n",
       "3                                 4.0   \n",
       "4                                 3.0   \n",
       "\n",
       "  How do you describe your current level of fitness ?  \\\n",
       "0                                               Good    \n",
       "1                                          Very good    \n",
       "2                                               Good    \n",
       "3                                               Good    \n",
       "4                                              Unfit    \n",
       "\n",
       "  How often do you exercise?  \\\n",
       "0                      Never   \n",
       "1                      Never   \n",
       "2        1 to 2 times a week   \n",
       "3        3 to 4 times a week   \n",
       "4                      Never   \n",
       "\n",
       "  What barriers, if any, prevent you from exercising more regularly?           (Please select all that apply)  \\\n",
       "0    I don't have enough time;I can't stay motivated                                                            \n",
       "1     I don't have enough time;I'll become too tired                                                            \n",
       "2                             I can't stay motivated                                                            \n",
       "3                           I don't have enough time                                                            \n",
       "4                             I can't stay motivated                                                            \n",
       "\n",
       "  What form(s) of exercise do you currently participate in ?                        (Please select all that apply)  \\\n",
       "0                            I don't really exercise                                                                 \n",
       "1                        Walking or jogging;Swimming                                                                 \n",
       "2                                 Walking or jogging                                                                 \n",
       "3             Walking or jogging;Gym;Lifting weights                                                                 \n",
       "4                            I don't really exercise                                                                 \n",
       "\n",
       "  Do you exercise ___________ ?  \\\n",
       "0       I don't really exercise   \n",
       "1                  With a group   \n",
       "2                         Alone   \n",
       "3                         Alone   \n",
       "4       I don't really exercise   \n",
       "\n",
       "  What time if the day do you prefer to exercise?  \\\n",
       "0                                   Early morning   \n",
       "1                                   Early morning   \n",
       "2                                   Early morning   \n",
       "3                                         Evening   \n",
       "4                                         Evening   \n",
       "\n",
       "  How long do you spend exercising per day ?  \\\n",
       "0                    I don't really exercise   \n",
       "1                    I don't really exercise   \n",
       "2                                 30 minutes   \n",
       "3                                     1 hour   \n",
       "4                    I don't really exercise   \n",
       "\n",
       "  Would you say you eat a healthy balanced diet ?  \\\n",
       "0                                      Not always   \n",
       "1                                      Not always   \n",
       "2                                      Not always   \n",
       "3                                             Yes   \n",
       "4                                             Yes   \n",
       "\n",
       "  What prevents you from eating a healthy balanced diet, If any?                         (Please select all that apply)  \\\n",
       "0  Ease of access to fast food;Temptation and cra...                                                                      \n",
       "1  Ease of access to fast food;Temptation and cra...                                                                      \n",
       "2                            Temptation and cravings                                                                      \n",
       "3                            Temptation and cravings                                                                      \n",
       "4  Ease of access to fast food;Temptation and cra...                                                                      \n",
       "\n",
       "   How healthy do you consider yourself?  \\\n",
       "0                                    3.0   \n",
       "1                                    4.0   \n",
       "2                                    4.0   \n",
       "3                                    NaN   \n",
       "4                                    4.0   \n",
       "\n",
       "  Have you ever recommended your friends to follow a fitness routine?  \\\n",
       "0                                                Yes                    \n",
       "1                                                Yes                    \n",
       "2                                                Yes                    \n",
       "3                                                Yes                    \n",
       "4                                                Yes                    \n",
       "\n",
       "  Have you ever purchased a fitness equipment?  \\\n",
       "0                                           No   \n",
       "1                                           No   \n",
       "2                                          Yes   \n",
       "3                                           No   \n",
       "4                                           No   \n",
       "\n",
       "  What motivates you to exercise?         (Please select all that applies )  \n",
       "0  I'm sorry ... I'm not really interested in exe...                         \n",
       "1  I want to be fit;I want to be flexible;I want ...                         \n",
       "2                                   I want to be fit                         \n",
       "3             I want to be fit;I want to lose weight                         \n",
       "4                                   I want to be fit                         "
      ]
     },
     "execution_count": 473,
     "metadata": {},
     "output_type": "execute_result"
    }
   ],
   "source": [
    "# Viewing the head of datafr## 2.3. Viewing Top 5 Rows of Dataframeame\n",
    "\n",
    "df.head()"
   ]
  },
  {
   "cell_type": "markdown",
   "metadata": {},
   "source": [
    "## 2.4. Reducing the Column Heading to be more readable and easier to work with"
   ]
  },
  {
   "cell_type": "code",
   "execution_count": 474,
   "metadata": {
    "execution": {
     "iopub.execute_input": "2020-10-06T09:11:13.052736Z",
     "iopub.status.busy": "2020-10-06T09:11:13.051690Z",
     "iopub.status.idle": "2020-10-06T09:11:13.055708Z",
     "shell.execute_reply": "2020-10-06T09:11:13.055000Z"
    },
    "papermill": {
     "duration": 0.045401,
     "end_time": "2020-10-06T09:11:13.055814",
     "exception": false,
     "start_time": "2020-10-06T09:11:13.010413",
     "status": "completed"
    },
    "tags": []
   },
   "outputs": [
    {
     "data": {
      "text/plain": [
       "Index(['Timestamp', 'Your name ', 'Your gender ', 'Your age ',\n",
       "       'How important is exercise to you ?',\n",
       "       'How do you describe your current level of fitness ?',\n",
       "       'How often do you exercise?',\n",
       "       'What barriers, if any, prevent you from exercising more regularly?           (Please select all that apply)',\n",
       "       'What form(s) of exercise do you currently participate in ?                        (Please select all that apply)',\n",
       "       'Do you exercise ___________ ?',\n",
       "       'What time if the day do you prefer to exercise?',\n",
       "       'How long do you spend exercising per day ?',\n",
       "       'Would you say you eat a healthy balanced diet ?',\n",
       "       'What prevents you from eating a healthy balanced diet, If any?                         (Please select all that apply)',\n",
       "       'How healthy do you consider yourself?',\n",
       "       'Have you ever recommended your friends to follow a fitness routine?',\n",
       "       'Have you ever purchased a fitness equipment?',\n",
       "       'What motivates you to exercise?         (Please select all that applies )'],\n",
       "      dtype='object')"
      ]
     },
     "execution_count": 474,
     "metadata": {},
     "output_type": "execute_result"
    }
   ],
   "source": [
    "# Viewing column headings\n",
    "\n",
    "df.columns"
   ]
  },
  {
   "cell_type": "code",
   "execution_count": 475,
   "metadata": {
    "execution": {
     "iopub.execute_input": "2020-10-06T09:11:13.135539Z",
     "iopub.status.busy": "2020-10-06T09:11:13.134851Z",
     "iopub.status.idle": "2020-10-06T09:11:13.138209Z",
     "shell.execute_reply": "2020-10-06T09:11:13.137557Z"
    },
    "papermill": {
     "duration": 0.045547,
     "end_time": "2020-10-06T09:11:13.138319",
     "exception": false,
     "start_time": "2020-10-06T09:11:13.092772",
     "status": "completed"
    },
    "tags": []
   },
   "outputs": [],
   "source": [
    "# Renaming columns as they were very long. Making them more readable\n",
    "\n",
    "new_cols=['Timestamp','Name','Gender','Age_range','Exercise_importance','Fitness_level','Regularity','Barriers','Exercises','Do_you','Time','Time_spent','Balanced_diet','Prevents_balanced_diet','Health_level','Recommend_fitness','Equipment','Motivation']"
   ]
  },
  {
   "cell_type": "code",
   "execution_count": 476,
   "metadata": {
    "execution": {
     "iopub.execute_input": "2020-10-06T09:11:13.216976Z",
     "iopub.status.busy": "2020-10-06T09:11:13.216296Z",
     "iopub.status.idle": "2020-10-06T09:11:13.230387Z",
     "shell.execute_reply": "2020-10-06T09:11:13.229759Z"
    },
    "papermill": {
     "duration": 0.05485,
     "end_time": "2020-10-06T09:11:13.230508",
     "exception": false,
     "start_time": "2020-10-06T09:11:13.175658",
     "status": "completed"
    },
    "tags": []
   },
   "outputs": [
    {
     "data": {
      "text/html": [
       "<div>\n",
       "<style scoped>\n",
       "    .dataframe tbody tr th:only-of-type {\n",
       "        vertical-align: middle;\n",
       "    }\n",
       "\n",
       "    .dataframe tbody tr th {\n",
       "        vertical-align: top;\n",
       "    }\n",
       "\n",
       "    .dataframe thead th {\n",
       "        text-align: right;\n",
       "    }\n",
       "</style>\n",
       "<table border=\"1\" class=\"dataframe\">\n",
       "  <thead>\n",
       "    <tr style=\"text-align: right;\">\n",
       "      <th></th>\n",
       "      <th>0</th>\n",
       "    </tr>\n",
       "  </thead>\n",
       "  <tbody>\n",
       "    <tr>\n",
       "      <th>Timestamp</th>\n",
       "      <td>Timestamp</td>\n",
       "    </tr>\n",
       "    <tr>\n",
       "      <th>Your name</th>\n",
       "      <td>Name</td>\n",
       "    </tr>\n",
       "    <tr>\n",
       "      <th>Your gender</th>\n",
       "      <td>Gender</td>\n",
       "    </tr>\n",
       "    <tr>\n",
       "      <th>Your age</th>\n",
       "      <td>Age_range</td>\n",
       "    </tr>\n",
       "    <tr>\n",
       "      <th>How important is exercise to you ?</th>\n",
       "      <td>Exercise_importance</td>\n",
       "    </tr>\n",
       "    <tr>\n",
       "      <th>How do you describe your current level of fitness ?</th>\n",
       "      <td>Fitness_level</td>\n",
       "    </tr>\n",
       "    <tr>\n",
       "      <th>How often do you exercise?</th>\n",
       "      <td>Regularity</td>\n",
       "    </tr>\n",
       "    <tr>\n",
       "      <th>What barriers, if any, prevent you from exercising more regularly?           (Please select all that apply)</th>\n",
       "      <td>Barriers</td>\n",
       "    </tr>\n",
       "    <tr>\n",
       "      <th>What form(s) of exercise do you currently participate in ?                        (Please select all that apply)</th>\n",
       "      <td>Exercises</td>\n",
       "    </tr>\n",
       "    <tr>\n",
       "      <th>Do you exercise ___________ ?</th>\n",
       "      <td>Do_you</td>\n",
       "    </tr>\n",
       "    <tr>\n",
       "      <th>What time if the day do you prefer to exercise?</th>\n",
       "      <td>Time</td>\n",
       "    </tr>\n",
       "    <tr>\n",
       "      <th>How long do you spend exercising per day ?</th>\n",
       "      <td>Time_spent</td>\n",
       "    </tr>\n",
       "    <tr>\n",
       "      <th>Would you say you eat a healthy balanced diet ?</th>\n",
       "      <td>Balanced_diet</td>\n",
       "    </tr>\n",
       "    <tr>\n",
       "      <th>What prevents you from eating a healthy balanced diet, If any?                         (Please select all that apply)</th>\n",
       "      <td>Prevents_balanced_diet</td>\n",
       "    </tr>\n",
       "    <tr>\n",
       "      <th>How healthy do you consider yourself?</th>\n",
       "      <td>Health_level</td>\n",
       "    </tr>\n",
       "    <tr>\n",
       "      <th>Have you ever recommended your friends to follow a fitness routine?</th>\n",
       "      <td>Recommend_fitness</td>\n",
       "    </tr>\n",
       "    <tr>\n",
       "      <th>Have you ever purchased a fitness equipment?</th>\n",
       "      <td>Equipment</td>\n",
       "    </tr>\n",
       "    <tr>\n",
       "      <th>What motivates you to exercise?         (Please select all that applies )</th>\n",
       "      <td>Motivation</td>\n",
       "    </tr>\n",
       "  </tbody>\n",
       "</table>\n",
       "</div>"
      ],
      "text/plain": [
       "                                                                         0\n",
       "Timestamp                                                        Timestamp\n",
       "Your name                                                             Name\n",
       "Your gender                                                         Gender\n",
       "Your age                                                         Age_range\n",
       "How important is exercise to you ?                     Exercise_importance\n",
       "How do you describe your current level of fitne...           Fitness_level\n",
       "How often do you exercise?                                      Regularity\n",
       "What barriers, if any, prevent you from exercis...                Barriers\n",
       "What form(s) of exercise do you currently parti...               Exercises\n",
       "Do you exercise ___________ ?                                       Do_you\n",
       "What time if the day do you prefer to exercise?                       Time\n",
       "How long do you spend exercising per day ?                      Time_spent\n",
       "Would you say you eat a healthy balanced diet ?              Balanced_diet\n",
       "What prevents you from eating a healthy balance...  Prevents_balanced_diet\n",
       "How healthy do you consider yourself?                         Health_level\n",
       "Have you ever recommended your friends to follo...       Recommend_fitness\n",
       "Have you ever purchased a fitness equipment?                     Equipment\n",
       "What motivates you to exercise?         (Please...              Motivation"
      ]
     },
     "execution_count": 476,
     "metadata": {},
     "output_type": "execute_result"
    }
   ],
   "source": [
    "# Comparing the new and old column names for any discrepancies\n",
    "\n",
    "column_reference=pd.DataFrame(new_cols,df.columns)\n",
    "column_reference"
   ]
  },
  {
   "cell_type": "code",
   "execution_count": 477,
   "metadata": {
    "execution": {
     "iopub.execute_input": "2020-10-06T09:11:13.389511Z",
     "iopub.status.busy": "2020-10-06T09:11:13.388665Z",
     "iopub.status.idle": "2020-10-06T09:11:13.391482Z",
     "shell.execute_reply": "2020-10-06T09:11:13.390735Z"
    },
    "papermill": {
     "duration": 0.045254,
     "end_time": "2020-10-06T09:11:13.391584",
     "exception": false,
     "start_time": "2020-10-06T09:11:13.346330",
     "status": "completed"
    },
    "tags": []
   },
   "outputs": [],
   "source": [
    "# Changing the column names in the original dataframe with the new names\n",
    "\n",
    "df.columns=new_cols"
   ]
  },
  {
   "cell_type": "code",
   "execution_count": 478,
   "metadata": {
    "_kg_hide-input": true,
    "execution": {
     "iopub.execute_input": "2020-10-06T09:11:13.551138Z",
     "iopub.status.busy": "2020-10-06T09:11:13.550135Z",
     "iopub.status.idle": "2020-10-06T09:11:13.553646Z",
     "shell.execute_reply": "2020-10-06T09:11:13.553033Z"
    },
    "papermill": {
     "duration": 0.048133,
     "end_time": "2020-10-06T09:11:13.553759",
     "exception": false,
     "start_time": "2020-10-06T09:11:13.505626",
     "status": "completed"
    },
    "tags": []
   },
   "outputs": [],
   "source": [
    "# Dropping irrelevant columns\n",
    "\n",
    "df = df.drop(columns=['Timestamp','Name'],axis = 1)"
   ]
  },
  {
   "cell_type": "code",
   "execution_count": 479,
   "metadata": {
    "execution": {
     "iopub.execute_input": "2020-10-06T09:11:13.651804Z",
     "iopub.status.busy": "2020-10-06T09:11:13.650826Z",
     "iopub.status.idle": "2020-10-06T09:11:13.655323Z",
     "shell.execute_reply": "2020-10-06T09:11:13.654578Z"
    },
    "papermill": {
     "duration": 0.063254,
     "end_time": "2020-10-06T09:11:13.655429",
     "exception": false,
     "start_time": "2020-10-06T09:11:13.592175",
     "status": "completed"
    },
    "tags": []
   },
   "outputs": [
    {
     "data": {
      "text/html": [
       "<div>\n",
       "<style scoped>\n",
       "    .dataframe tbody tr th:only-of-type {\n",
       "        vertical-align: middle;\n",
       "    }\n",
       "\n",
       "    .dataframe tbody tr th {\n",
       "        vertical-align: top;\n",
       "    }\n",
       "\n",
       "    .dataframe thead th {\n",
       "        text-align: right;\n",
       "    }\n",
       "</style>\n",
       "<table border=\"1\" class=\"dataframe\">\n",
       "  <thead>\n",
       "    <tr style=\"text-align: right;\">\n",
       "      <th></th>\n",
       "      <th>Gender</th>\n",
       "      <th>Age_range</th>\n",
       "      <th>Exercise_importance</th>\n",
       "      <th>Fitness_level</th>\n",
       "      <th>Regularity</th>\n",
       "      <th>Barriers</th>\n",
       "      <th>Exercises</th>\n",
       "      <th>Do_you</th>\n",
       "      <th>Time</th>\n",
       "      <th>Time_spent</th>\n",
       "      <th>Balanced_diet</th>\n",
       "      <th>Prevents_balanced_diet</th>\n",
       "      <th>Health_level</th>\n",
       "      <th>Recommend_fitness</th>\n",
       "      <th>Equipment</th>\n",
       "      <th>Motivation</th>\n",
       "    </tr>\n",
       "  </thead>\n",
       "  <tbody>\n",
       "    <tr>\n",
       "      <th>0</th>\n",
       "      <td>Female</td>\n",
       "      <td>19 to 25</td>\n",
       "      <td>NaN</td>\n",
       "      <td>Good</td>\n",
       "      <td>Never</td>\n",
       "      <td>I don't have enough time;I can't stay motivated</td>\n",
       "      <td>I don't really exercise</td>\n",
       "      <td>I don't really exercise</td>\n",
       "      <td>Early morning</td>\n",
       "      <td>I don't really exercise</td>\n",
       "      <td>Not always</td>\n",
       "      <td>Ease of access to fast food;Temptation and cra...</td>\n",
       "      <td>3.0</td>\n",
       "      <td>Yes</td>\n",
       "      <td>No</td>\n",
       "      <td>I'm sorry ... I'm not really interested in exe...</td>\n",
       "    </tr>\n",
       "    <tr>\n",
       "      <th>1</th>\n",
       "      <td>Female</td>\n",
       "      <td>19 to 25</td>\n",
       "      <td>4.0</td>\n",
       "      <td>Very good</td>\n",
       "      <td>Never</td>\n",
       "      <td>I don't have enough time;I'll become too tired</td>\n",
       "      <td>Walking or jogging;Swimming</td>\n",
       "      <td>With a group</td>\n",
       "      <td>Early morning</td>\n",
       "      <td>I don't really exercise</td>\n",
       "      <td>Not always</td>\n",
       "      <td>Ease of access to fast food;Temptation and cra...</td>\n",
       "      <td>4.0</td>\n",
       "      <td>Yes</td>\n",
       "      <td>No</td>\n",
       "      <td>I want to be fit;I want to be flexible;I want ...</td>\n",
       "    </tr>\n",
       "    <tr>\n",
       "      <th>2</th>\n",
       "      <td>Female</td>\n",
       "      <td>NaN</td>\n",
       "      <td>3.0</td>\n",
       "      <td>Good</td>\n",
       "      <td>1 to 2 times a week</td>\n",
       "      <td>I can't stay motivated</td>\n",
       "      <td>Walking or jogging</td>\n",
       "      <td>Alone</td>\n",
       "      <td>Early morning</td>\n",
       "      <td>30 minutes</td>\n",
       "      <td>Not always</td>\n",
       "      <td>Temptation and cravings</td>\n",
       "      <td>4.0</td>\n",
       "      <td>Yes</td>\n",
       "      <td>Yes</td>\n",
       "      <td>I want to be fit</td>\n",
       "    </tr>\n",
       "    <tr>\n",
       "      <th>3</th>\n",
       "      <td>Female</td>\n",
       "      <td>15 to 18</td>\n",
       "      <td>4.0</td>\n",
       "      <td>Good</td>\n",
       "      <td>3 to 4 times a week</td>\n",
       "      <td>I don't have enough time</td>\n",
       "      <td>Walking or jogging;Gym;Lifting weights</td>\n",
       "      <td>Alone</td>\n",
       "      <td>Evening</td>\n",
       "      <td>1 hour</td>\n",
       "      <td>Yes</td>\n",
       "      <td>Temptation and cravings</td>\n",
       "      <td>NaN</td>\n",
       "      <td>Yes</td>\n",
       "      <td>No</td>\n",
       "      <td>I want to be fit;I want to lose weight</td>\n",
       "    </tr>\n",
       "    <tr>\n",
       "      <th>4</th>\n",
       "      <td>Female</td>\n",
       "      <td>19 to 25</td>\n",
       "      <td>3.0</td>\n",
       "      <td>Unfit</td>\n",
       "      <td>Never</td>\n",
       "      <td>I can't stay motivated</td>\n",
       "      <td>I don't really exercise</td>\n",
       "      <td>I don't really exercise</td>\n",
       "      <td>Evening</td>\n",
       "      <td>I don't really exercise</td>\n",
       "      <td>Yes</td>\n",
       "      <td>Ease of access to fast food;Temptation and cra...</td>\n",
       "      <td>4.0</td>\n",
       "      <td>Yes</td>\n",
       "      <td>No</td>\n",
       "      <td>I want to be fit</td>\n",
       "    </tr>\n",
       "  </tbody>\n",
       "</table>\n",
       "</div>"
      ],
      "text/plain": [
       "   Gender Age_range  Exercise_importance Fitness_level           Regularity  \\\n",
       "0  Female  19 to 25                  NaN          Good                Never   \n",
       "1  Female  19 to 25                  4.0     Very good                Never   \n",
       "2  Female       NaN                  3.0          Good  1 to 2 times a week   \n",
       "3  Female  15 to 18                  4.0          Good  3 to 4 times a week   \n",
       "4  Female  19 to 25                  3.0         Unfit                Never   \n",
       "\n",
       "                                          Barriers  \\\n",
       "0  I don't have enough time;I can't stay motivated   \n",
       "1   I don't have enough time;I'll become too tired   \n",
       "2                           I can't stay motivated   \n",
       "3                         I don't have enough time   \n",
       "4                           I can't stay motivated   \n",
       "\n",
       "                                Exercises                   Do_you  \\\n",
       "0                 I don't really exercise  I don't really exercise   \n",
       "1             Walking or jogging;Swimming             With a group   \n",
       "2                      Walking or jogging                    Alone   \n",
       "3  Walking or jogging;Gym;Lifting weights                    Alone   \n",
       "4                 I don't really exercise  I don't really exercise   \n",
       "\n",
       "            Time               Time_spent Balanced_diet  \\\n",
       "0  Early morning  I don't really exercise    Not always   \n",
       "1  Early morning  I don't really exercise    Not always   \n",
       "2  Early morning               30 minutes    Not always   \n",
       "3        Evening                   1 hour           Yes   \n",
       "4        Evening  I don't really exercise           Yes   \n",
       "\n",
       "                              Prevents_balanced_diet  Health_level  \\\n",
       "0  Ease of access to fast food;Temptation and cra...           3.0   \n",
       "1  Ease of access to fast food;Temptation and cra...           4.0   \n",
       "2                            Temptation and cravings           4.0   \n",
       "3                            Temptation and cravings           NaN   \n",
       "4  Ease of access to fast food;Temptation and cra...           4.0   \n",
       "\n",
       "  Recommend_fitness Equipment  \\\n",
       "0               Yes        No   \n",
       "1               Yes        No   \n",
       "2               Yes       Yes   \n",
       "3               Yes        No   \n",
       "4               Yes        No   \n",
       "\n",
       "                                          Motivation  \n",
       "0  I'm sorry ... I'm not really interested in exe...  \n",
       "1  I want to be fit;I want to be flexible;I want ...  \n",
       "2                                   I want to be fit  \n",
       "3             I want to be fit;I want to lose weight  \n",
       "4                                   I want to be fit  "
      ]
     },
     "execution_count": 479,
     "metadata": {},
     "output_type": "execute_result"
    }
   ],
   "source": [
    "# Viewing changes in column names\n",
    "\n",
    "df.head()"
   ]
  },
  {
   "cell_type": "markdown",
   "metadata": {},
   "source": [
    "\n",
    "\n",
    "\n",
    "\n",
    "\n",
    "\n",
    "\n",
    "\n",
    "\n",
    "\n",
    "## 2.5. Visualizing Missing Data"
   ]
  },
  {
   "cell_type": "markdown",
   "metadata": {},
   "source": [
    "### <i>2.5.1. Using missingno library (https://github.com/ResidentMario/missingno)"
   ]
  },
  {
   "cell_type": "code",
   "execution_count": 480,
   "metadata": {},
   "outputs": [
    {
     "data": {
      "text/plain": [
       "<AxesSubplot:>"
      ]
     },
     "execution_count": 480,
     "metadata": {},
     "output_type": "execute_result"
    },
    {
     "data": {
      "image/png": "[encoded data removed]",
      "text/plain": [
       "<Figure size 1800x720 with 2 Axes>"
      ]
     },
     "metadata": {
      "needs_background": "light"
     },
     "output_type": "display_data"
    }
   ],
   "source": [
    "# Plotting a matrix visualization for the Missing Data\n",
    "\n",
    "msno.matrix(df, color = (0, 0, 0))"
   ]
  },
  {
   "cell_type": "code",
   "execution_count": 481,
   "metadata": {},
   "outputs": [
    {
     "data": {
      "text/plain": [
       "<AxesSubplot:>"
      ]
     },
     "execution_count": 481,
     "metadata": {},
     "output_type": "execute_result"
    },
    {
     "data": {
      "image/png": "[encoded data removed]",
      "text/plain": [
       "<Figure size 1728x720 with 3 Axes>"
      ]
     },
     "metadata": {
      "needs_background": "light"
     },
     "output_type": "display_data"
    }
   ],
   "source": [
    "# Plotting a Bar Graph for the Missing Data\n",
    "\n",
    "msno.bar(df, color = 'black')"
   ]
  },
  {
   "cell_type": "code",
   "execution_count": 482,
   "metadata": {},
   "outputs": [
    {
     "data": {
      "text/plain": [
       "<AxesSubplot:>"
      ]
     },
     "execution_count": 482,
     "metadata": {},
     "output_type": "execute_result"
    },
    {
     "data": {
      "image/png": "[encoded data removed]",
      "text/plain": [
       "<Figure size 1440x864 with 2 Axes>"
      ]
     },
     "metadata": {
      "needs_background": "light"
     },
     "output_type": "display_data"
    }
   ],
   "source": [
    "# Plotting a Heatmap to show correlation between missing values based on the columns\n",
    "# A value near -1 means if one variable appears then the other variable is very likely to be missing.\n",
    "# A value near 0 means there is no dependence between the occurrence of missing values of two variables.\n",
    "# A value near 1 means if one variable appears then the other variable is very likely to be present.\n",
    "\n",
    "msno.heatmap(df, cmap = 'viridis')"
   ]
  },
  {
   "cell_type": "markdown",
   "metadata": {},
   "source": [
    "### <i> 2.5.2. Using Seaborn Library"
   ]
  },
  {
   "cell_type": "code",
   "execution_count": 483,
   "metadata": {},
   "outputs": [
    {
     "data": {
      "text/plain": [
       "<AxesSubplot:>"
      ]
     },
     "execution_count": 483,
     "metadata": {},
     "output_type": "execute_result"
    },
    {
     "data": {
      "image/png": "[encoded data removed]",
      "text/plain": [
       "<Figure size 432x288 with 2 Axes>"
      ]
     },
     "metadata": {
      "needs_background": "light"
     },
     "output_type": "display_data"
    }
   ],
   "source": [
    "# Plotting a Heatmap to see where the missing data is in each column\n",
    "\n",
    "sns.heatmap(df.isnull(), cmap= 'magma')\n"
   ]
  },
  {
   "cell_type": "markdown",
   "metadata": {},
   "source": [
    "## 2.6. Filling the missing data"
   ]
  },
  {
   "cell_type": "code",
   "execution_count": 484,
   "metadata": {},
   "outputs": [
    {
     "name": "stdout",
     "output_type": "stream",
     "text": [
      "Gender                     object\n",
      "Age_range                  object\n",
      "Exercise_importance       float64\n",
      "Fitness_level              object\n",
      "Regularity                 object\n",
      "Barriers                   object\n",
      "Exercises                  object\n",
      "Do_you                     object\n",
      "Time                       object\n",
      "Time_spent                 object\n",
      "Balanced_diet              object\n",
      "Prevents_balanced_diet     object\n",
      "Health_level              float64\n",
      "Recommend_fitness          object\n",
      "Equipment                  object\n",
      "Motivation                 object\n",
      "dtype: object\n"
     ]
    }
   ],
   "source": [
    "# Viewing the Datatypes for further reference\n",
    "# All columns contain categorical variables (Object) except Exercise_importance and Health_level which are numeric (Float).\n",
    "\n",
    "print(df.dtypes)"
   ]
  },
  {
   "cell_type": "code",
   "execution_count": 485,
   "metadata": {},
   "outputs": [
    {
     "name": "stdout",
     "output_type": "stream",
     "text": [
      "Gender                     3\n",
      "Age_range                  4\n",
      "Exercise_importance       10\n",
      "Fitness_level              5\n",
      "Regularity                 4\n",
      "Barriers                   3\n",
      "Exercises                  5\n",
      "Do_you                     3\n",
      "Time                       4\n",
      "Time_spent                 4\n",
      "Balanced_diet              2\n",
      "Prevents_balanced_diet     4\n",
      "Health_level               9\n",
      "Recommend_fitness          3\n",
      "Equipment                  3\n",
      "Motivation                 4\n",
      "dtype: int64\n"
     ]
    }
   ],
   "source": [
    "# Viewing the sum of missing values in each column for further reference \n",
    "\n",
    "print(df.isna().sum())"
   ]
  },
  {
   "cell_type": "markdown",
   "metadata": {},
   "source": [
    "### <i>2.6.1. Gender Column"
   ]
  },
  {
   "cell_type": "code",
   "execution_count": 486,
   "metadata": {},
   "outputs": [
    {
     "name": "stdout",
     "output_type": "stream",
     "text": [
      "0\n"
     ]
    }
   ],
   "source": [
    "# Replacing missing values with Mode (Most Occurring Value)\n",
    "\n",
    "df['Gender'].fillna(df['Gender'].mode().iloc[0], inplace = True)\n",
    "\n",
    "# Checking if the replacement of missing values succeeded\n",
    "\n",
    "print(df['Gender'].isnull().sum())"
   ]
  },
  {
   "cell_type": "markdown",
   "metadata": {},
   "source": [
    "### <i>2.6.2. Age_range Column"
   ]
  },
  {
   "cell_type": "code",
   "execution_count": 487,
   "metadata": {},
   "outputs": [
    {
     "name": "stdout",
     "output_type": "stream",
     "text": [
      "0\n"
     ]
    }
   ],
   "source": [
    "# Replacing missing values with Mode (Most Occurring Value)\n",
    "\n",
    "df['Age_range'].fillna(df['Age_range'].mode().iloc[0], inplace = True)\n",
    "\n",
    "# Checking if the replacement of missing values succeeded\n",
    "\n",
    "print(df['Gender'].isnull().sum())"
   ]
  },
  {
   "cell_type": "markdown",
   "metadata": {},
   "source": [
    "### <i>2.6.3. Exercise_importance Column (Normalization)*"
   ]
  },
  {
   "cell_type": "code",
   "execution_count": 488,
   "metadata": {},
   "outputs": [
    {
     "name": "stdout",
     "output_type": "stream",
     "text": [
      "0\n"
     ]
    }
   ],
   "source": [
    "# Replacing missing values with Mean (Average Value)\n",
    "\n",
    "df['Exercise_importance'].fillna(df['Exercise_importance'].mean(), inplace = True)\n",
    "\n",
    "# Converting the column datatype to Integer to make the values consistent\n",
    "\n",
    "df['Exercise_importance'] = df['Exercise_importance'].astype(int)\n",
    "\n",
    "# Checking if the replacement of missing values succeeded\n",
    "\n",
    "print(df['Exercise_importance'].isnull().sum())\n"
   ]
  },
  {
   "cell_type": "code",
   "execution_count": 489,
   "metadata": {},
   "outputs": [
    {
     "data": {
      "text/plain": [
       "0      3\n",
       "1      4\n",
       "2      3\n",
       "3      4\n",
       "4      3\n",
       "      ..\n",
       "540    3\n",
       "541    1\n",
       "542    4\n",
       "543    3\n",
       "544    2\n",
       "Name: Exercise_importance, Length: 545, dtype: int32"
      ]
     },
     "execution_count": 489,
     "metadata": {},
     "output_type": "execute_result"
    }
   ],
   "source": [
    "# Viewing the change in datatype\n",
    "\n",
    "df['Exercise_importance']"
   ]
  },
  {
   "cell_type": "markdown",
   "metadata": {},
   "source": [
    "### <i>2.6.4. Fitness_level Column"
   ]
  },
  {
   "cell_type": "code",
   "execution_count": 490,
   "metadata": {},
   "outputs": [
    {
     "name": "stdout",
     "output_type": "stream",
     "text": [
      "0\n"
     ]
    }
   ],
   "source": [
    "# Replacing missing values with Mode (Most Occurring Value)\n",
    "\n",
    "df['Fitness_level'].fillna(df['Fitness_level'].mode().iloc[0], inplace = True)\n",
    "\n",
    "# Checking if the replacement of missing values succeeded\n",
    "\n",
    "print(df['Fitness_level'].isnull().sum())"
   ]
  },
  {
   "cell_type": "markdown",
   "metadata": {},
   "source": [
    "### <i>2.6.5. Regularity Column"
   ]
  },
  {
   "cell_type": "code",
   "execution_count": 491,
   "metadata": {},
   "outputs": [
    {
     "name": "stdout",
     "output_type": "stream",
     "text": [
      "0\n"
     ]
    }
   ],
   "source": [
    "# Replacing missing values with Mode (Most Occurring Value)\n",
    "\n",
    "df['Regularity'].fillna(df['Regularity'].mode().iloc[0], inplace = True)\n",
    "\n",
    "# Checking if the replacement of missing values succeeded\n",
    "\n",
    "print(df['Regularity'].isnull().sum())"
   ]
  },
  {
   "cell_type": "markdown",
   "metadata": {},
   "source": [
    "### <i>2.6.6. Barriers Column"
   ]
  },
  {
   "cell_type": "code",
   "execution_count": 492,
   "metadata": {},
   "outputs": [
    {
     "name": "stdout",
     "output_type": "stream",
     "text": [
      "0\n"
     ]
    }
   ],
   "source": [
    "# Replacing missing values with Mode (Most Occurring Value)\n",
    "\n",
    "df['Barriers'].fillna(df['Barriers'].mode().iloc[0], inplace = True)\n",
    "\n",
    "# Checking if the replacement of missing values succeeded\n",
    "\n",
    "print(df['Barriers'].isnull().sum())"
   ]
  },
  {
   "cell_type": "markdown",
   "metadata": {},
   "source": [
    "### <i>2.6.7. Exercises Column"
   ]
  },
  {
   "cell_type": "code",
   "execution_count": 493,
   "metadata": {},
   "outputs": [
    {
     "name": "stdout",
     "output_type": "stream",
     "text": [
      "0\n"
     ]
    }
   ],
   "source": [
    "# Replacing missing values with Mode (Most Occurring Value)\n",
    "\n",
    "df['Exercises'].fillna(df['Exercises'].mode().iloc[0], inplace = True)\n",
    "\n",
    "# Checking if the replacement of missing values succeeded\n",
    "\n",
    "print(df['Exercises'].isnull().sum())"
   ]
  },
  {
   "cell_type": "markdown",
   "metadata": {},
   "source": [
    "### <i>2.6.8. Do_you Column"
   ]
  },
  {
   "cell_type": "code",
   "execution_count": 494,
   "metadata": {},
   "outputs": [
    {
     "name": "stdout",
     "output_type": "stream",
     "text": [
      "0\n"
     ]
    }
   ],
   "source": [
    "# Replacing missing values with Mode (Most Occurring Value)\n",
    "\n",
    "df['Do_you'].fillna(df['Do_you'].mode().iloc[0], inplace = True)\n",
    "\n",
    "# Checking if the replacement of missing values succeeded\n",
    "\n",
    "print(df['Do_you'].isnull().sum())"
   ]
  },
  {
   "cell_type": "markdown",
   "metadata": {},
   "source": [
    "### <i>2.6.9. Time Column"
   ]
  },
  {
   "cell_type": "code",
   "execution_count": 495,
   "metadata": {},
   "outputs": [
    {
     "name": "stdout",
     "output_type": "stream",
     "text": [
      "0\n"
     ]
    }
   ],
   "source": [
    "# Replacing missing values with Mode (Most Occurring Value)\n",
    "\n",
    "df['Time'].fillna(df['Time'].mode().iloc[0], inplace = True)\n",
    "\n",
    "# Checking if the replacement of missing values succeeded\n",
    "\n",
    "print(df['Time'].isnull().sum())"
   ]
  },
  {
   "cell_type": "markdown",
   "metadata": {},
   "source": [
    "### <i>2.6.10. Time_spent Column"
   ]
  },
  {
   "cell_type": "code",
   "execution_count": 496,
   "metadata": {},
   "outputs": [
    {
     "name": "stdout",
     "output_type": "stream",
     "text": [
      "0\n"
     ]
    }
   ],
   "source": [
    "# Replacing missing values with Mode (Most Occurring Value)\n",
    "\n",
    "df['Time_spent'].fillna(df['Time_spent'].mode().iloc[0], inplace = True)\n",
    "\n",
    "# Checking if the replacement of missing values succeeded\n",
    "\n",
    "print(df['Time_spent'].isnull().sum())"
   ]
  },
  {
   "cell_type": "markdown",
   "metadata": {},
   "source": [
    "### <i>2.6.11. Balanced_diet Column"
   ]
  },
  {
   "cell_type": "code",
   "execution_count": 497,
   "metadata": {},
   "outputs": [
    {
     "name": "stdout",
     "output_type": "stream",
     "text": [
      "0\n"
     ]
    }
   ],
   "source": [
    "# Replacing missing values with Mode (Most Occurring Value)\n",
    "\n",
    "df['Balanced_diet'].fillna(df['Balanced_diet'].mode().iloc[0], inplace = True)\n",
    "\n",
    "# Checking if the replacement of missing values succeeded\n",
    "\n",
    "print(df['Balanced_diet'].isnull().sum())"
   ]
  },
  {
   "cell_type": "markdown",
   "metadata": {},
   "source": [
    "### <i>2.6.12. Prevents_balanced_diet Column"
   ]
  },
  {
   "cell_type": "code",
   "execution_count": 498,
   "metadata": {},
   "outputs": [
    {
     "name": "stdout",
     "output_type": "stream",
     "text": [
      "0\n"
     ]
    }
   ],
   "source": [
    "# Replacing missing values with Mode (Most Occurring Value)\n",
    "\n",
    "df['Prevents_balanced_diet'].fillna(df['Prevents_balanced_diet'].mode().iloc[0], inplace = True)\n",
    "\n",
    "# Checking if the replacement of missing values succeeded\n",
    "\n",
    "print(df['Prevents_balanced_diet'].isnull().sum())"
   ]
  },
  {
   "cell_type": "markdown",
   "metadata": {},
   "source": [
    "### <i>2.6.13. Health_level Column (Normalization)*"
   ]
  },
  {
   "cell_type": "code",
   "execution_count": 499,
   "metadata": {},
   "outputs": [
    {
     "name": "stdout",
     "output_type": "stream",
     "text": [
      "0\n"
     ]
    }
   ],
   "source": [
    "# Replacing missing values with Mode (Most Occurring Value)\n",
    "\n",
    "df['Health_level'].fillna(df['Health_level'].mean(), inplace = True)\n",
    "\n",
    "# Converting the column datatype to Integer to make the values consistent\n",
    "\n",
    "df['Health_level'] = df['Health_level'].astype(int)\n",
    "\n",
    "# Checking if the replacement of missing values succeeded\n",
    "\n",
    "print(df['Health_level'].isnull().sum())"
   ]
  },
  {
   "cell_type": "code",
   "execution_count": 500,
   "metadata": {},
   "outputs": [
    {
     "data": {
      "text/plain": [
       "0      3\n",
       "1      4\n",
       "2      4\n",
       "3      3\n",
       "4      4\n",
       "      ..\n",
       "540    4\n",
       "541    3\n",
       "542    4\n",
       "543    3\n",
       "544    3\n",
       "Name: Health_level, Length: 545, dtype: int32"
      ]
     },
     "execution_count": 500,
     "metadata": {},
     "output_type": "execute_result"
    }
   ],
   "source": [
    "# Viewing the change in datatype\n",
    "\n",
    "df['Health_level']"
   ]
  },
  {
   "cell_type": "markdown",
   "metadata": {},
   "source": [
    "### <i>2.6.14. Recommend_fitness Column"
   ]
  },
  {
   "cell_type": "code",
   "execution_count": 501,
   "metadata": {},
   "outputs": [
    {
     "name": "stdout",
     "output_type": "stream",
     "text": [
      "0\n"
     ]
    }
   ],
   "source": [
    "# Replacing missing values with Mode (Most Occurring Value)\n",
    "\n",
    "df['Recommend_fitness'].fillna(df['Recommend_fitness'].mode().iloc[0], inplace = True)\n",
    "\n",
    "# Checking if the replacement of missing values succeeded\n",
    "\n",
    "print(df['Recommend_fitness'].isnull().sum())"
   ]
  },
  {
   "cell_type": "markdown",
   "metadata": {},
   "source": [
    "### <i>2.6.15. Equipment Column"
   ]
  },
  {
   "cell_type": "code",
   "execution_count": 502,
   "metadata": {},
   "outputs": [
    {
     "name": "stdout",
     "output_type": "stream",
     "text": [
      "0\n"
     ]
    }
   ],
   "source": [
    "# Replacing missing values with Mode (Most Occurring Value)\n",
    "\n",
    "df['Equipment'].fillna(df['Equipment'].mode().iloc[0], inplace = True)\n",
    "\n",
    "# Checking if the replacement of missing values succeeded\n",
    "\n",
    "print(df['Equipment'].isnull().sum())"
   ]
  },
  {
   "cell_type": "markdown",
   "metadata": {},
   "source": [
    "### <i>2.6.16. Motivation Column"
   ]
  },
  {
   "cell_type": "code",
   "execution_count": 503,
   "metadata": {},
   "outputs": [
    {
     "name": "stdout",
     "output_type": "stream",
     "text": [
      "0\n"
     ]
    }
   ],
   "source": [
    "# Replacing missing values with Mode (Most Occurring Value)\n",
    "\n",
    "df['Motivation'].fillna(df['Motivation'].mode().iloc[0], inplace = True)\n",
    "\n",
    "# Checking if the replacement of missing values succeeded\n",
    "\n",
    "print(df['Motivation'].isnull().sum())"
   ]
  },
  {
   "cell_type": "code",
   "execution_count": 504,
   "metadata": {},
   "outputs": [
    {
     "data": {
      "text/html": [
       "<div>\n",
       "<style scoped>\n",
       "    .dataframe tbody tr th:only-of-type {\n",
       "        vertical-align: middle;\n",
       "    }\n",
       "\n",
       "    .dataframe tbody tr th {\n",
       "        vertical-align: top;\n",
       "    }\n",
       "\n",
       "    .dataframe thead th {\n",
       "        text-align: right;\n",
       "    }\n",
       "</style>\n",
       "<table border=\"1\" class=\"dataframe\">\n",
       "  <thead>\n",
       "    <tr style=\"text-align: right;\">\n",
       "      <th></th>\n",
       "      <th>Gender</th>\n",
       "      <th>Age_range</th>\n",
       "      <th>Exercise_importance</th>\n",
       "      <th>Fitness_level</th>\n",
       "      <th>Regularity</th>\n",
       "      <th>Barriers</th>\n",
       "      <th>Exercises</th>\n",
       "      <th>Do_you</th>\n",
       "      <th>Time</th>\n",
       "      <th>Time_spent</th>\n",
       "      <th>Balanced_diet</th>\n",
       "      <th>Prevents_balanced_diet</th>\n",
       "      <th>Health_level</th>\n",
       "      <th>Recommend_fitness</th>\n",
       "      <th>Equipment</th>\n",
       "      <th>Motivation</th>\n",
       "    </tr>\n",
       "  </thead>\n",
       "  <tbody>\n",
       "    <tr>\n",
       "      <th>0</th>\n",
       "      <td>Female</td>\n",
       "      <td>19 to 25</td>\n",
       "      <td>3</td>\n",
       "      <td>Good</td>\n",
       "      <td>Never</td>\n",
       "      <td>I don't have enough time;I can't stay motivated</td>\n",
       "      <td>I don't really exercise</td>\n",
       "      <td>I don't really exercise</td>\n",
       "      <td>Early morning</td>\n",
       "      <td>I don't really exercise</td>\n",
       "      <td>Not always</td>\n",
       "      <td>Ease of access to fast food;Temptation and cra...</td>\n",
       "      <td>3</td>\n",
       "      <td>Yes</td>\n",
       "      <td>No</td>\n",
       "      <td>I'm sorry ... I'm not really interested in exe...</td>\n",
       "    </tr>\n",
       "    <tr>\n",
       "      <th>1</th>\n",
       "      <td>Female</td>\n",
       "      <td>19 to 25</td>\n",
       "      <td>4</td>\n",
       "      <td>Very good</td>\n",
       "      <td>Never</td>\n",
       "      <td>I don't have enough time;I'll become too tired</td>\n",
       "      <td>Walking or jogging;Swimming</td>\n",
       "      <td>With a group</td>\n",
       "      <td>Early morning</td>\n",
       "      <td>I don't really exercise</td>\n",
       "      <td>Not always</td>\n",
       "      <td>Ease of access to fast food;Temptation and cra...</td>\n",
       "      <td>4</td>\n",
       "      <td>Yes</td>\n",
       "      <td>No</td>\n",
       "      <td>I want to be fit;I want to be flexible;I want ...</td>\n",
       "    </tr>\n",
       "    <tr>\n",
       "      <th>2</th>\n",
       "      <td>Female</td>\n",
       "      <td>19 to 25</td>\n",
       "      <td>3</td>\n",
       "      <td>Good</td>\n",
       "      <td>1 to 2 times a week</td>\n",
       "      <td>I can't stay motivated</td>\n",
       "      <td>Walking or jogging</td>\n",
       "      <td>Alone</td>\n",
       "      <td>Early morning</td>\n",
       "      <td>30 minutes</td>\n",
       "      <td>Not always</td>\n",
       "      <td>Temptation and cravings</td>\n",
       "      <td>4</td>\n",
       "      <td>Yes</td>\n",
       "      <td>Yes</td>\n",
       "      <td>I want to be fit</td>\n",
       "    </tr>\n",
       "    <tr>\n",
       "      <th>3</th>\n",
       "      <td>Female</td>\n",
       "      <td>15 to 18</td>\n",
       "      <td>4</td>\n",
       "      <td>Good</td>\n",
       "      <td>3 to 4 times a week</td>\n",
       "      <td>I don't have enough time</td>\n",
       "      <td>Walking or jogging;Gym;Lifting weights</td>\n",
       "      <td>Alone</td>\n",
       "      <td>Evening</td>\n",
       "      <td>1 hour</td>\n",
       "      <td>Yes</td>\n",
       "      <td>Temptation and cravings</td>\n",
       "      <td>3</td>\n",
       "      <td>Yes</td>\n",
       "      <td>No</td>\n",
       "      <td>I want to be fit;I want to lose weight</td>\n",
       "    </tr>\n",
       "    <tr>\n",
       "      <th>4</th>\n",
       "      <td>Female</td>\n",
       "      <td>19 to 25</td>\n",
       "      <td>3</td>\n",
       "      <td>Unfit</td>\n",
       "      <td>Never</td>\n",
       "      <td>I can't stay motivated</td>\n",
       "      <td>I don't really exercise</td>\n",
       "      <td>I don't really exercise</td>\n",
       "      <td>Evening</td>\n",
       "      <td>I don't really exercise</td>\n",
       "      <td>Yes</td>\n",
       "      <td>Ease of access to fast food;Temptation and cra...</td>\n",
       "      <td>4</td>\n",
       "      <td>Yes</td>\n",
       "      <td>No</td>\n",
       "      <td>I want to be fit</td>\n",
       "    </tr>\n",
       "  </tbody>\n",
       "</table>\n",
       "</div>"
      ],
      "text/plain": [
       "   Gender Age_range  Exercise_importance Fitness_level           Regularity  \\\n",
       "0  Female  19 to 25                    3          Good                Never   \n",
       "1  Female  19 to 25                    4     Very good                Never   \n",
       "2  Female  19 to 25                    3          Good  1 to 2 times a week   \n",
       "3  Female  15 to 18                    4          Good  3 to 4 times a week   \n",
       "4  Female  19 to 25                    3         Unfit                Never   \n",
       "\n",
       "                                          Barriers  \\\n",
       "0  I don't have enough time;I can't stay motivated   \n",
       "1   I don't have enough time;I'll become too tired   \n",
       "2                           I can't stay motivated   \n",
       "3                         I don't have enough time   \n",
       "4                           I can't stay motivated   \n",
       "\n",
       "                                Exercises                   Do_you  \\\n",
       "0                 I don't really exercise  I don't really exercise   \n",
       "1             Walking or jogging;Swimming             With a group   \n",
       "2                      Walking or jogging                    Alone   \n",
       "3  Walking or jogging;Gym;Lifting weights                    Alone   \n",
       "4                 I don't really exercise  I don't really exercise   \n",
       "\n",
       "            Time               Time_spent Balanced_diet  \\\n",
       "0  Early morning  I don't really exercise    Not always   \n",
       "1  Early morning  I don't really exercise    Not always   \n",
       "2  Early morning               30 minutes    Not always   \n",
       "3        Evening                   1 hour           Yes   \n",
       "4        Evening  I don't really exercise           Yes   \n",
       "\n",
       "                              Prevents_balanced_diet  Health_level  \\\n",
       "0  Ease of access to fast food;Temptation and cra...             3   \n",
       "1  Ease of access to fast food;Temptation and cra...             4   \n",
       "2                            Temptation and cravings             4   \n",
       "3                            Temptation and cravings             3   \n",
       "4  Ease of access to fast food;Temptation and cra...             4   \n",
       "\n",
       "  Recommend_fitness Equipment  \\\n",
       "0               Yes        No   \n",
       "1               Yes        No   \n",
       "2               Yes       Yes   \n",
       "3               Yes        No   \n",
       "4               Yes        No   \n",
       "\n",
       "                                          Motivation  \n",
       "0  I'm sorry ... I'm not really interested in exe...  \n",
       "1  I want to be fit;I want to be flexible;I want ...  \n",
       "2                                   I want to be fit  \n",
       "3             I want to be fit;I want to lose weight  \n",
       "4                                   I want to be fit  "
      ]
     },
     "execution_count": 504,
     "metadata": {},
     "output_type": "execute_result"
    }
   ],
   "source": [
    "# Viewing changes\n",
    "df.head()"
   ]
  },
  {
   "cell_type": "markdown",
   "metadata": {
    "papermill": {
     "duration": 0.039544,
     "end_time": "2020-10-06T09:11:13.735069",
     "exception": false,
     "start_time": "2020-10-06T09:11:13.695525",
     "status": "completed"
    },
    "tags": []
   },
   "source": [
    "# 3. Exploratory Data Analysis"
   ]
  },
  {
   "cell_type": "markdown",
   "metadata": {},
   "source": [
    "## 3.1. Distribution of Age and Importance of Exercise"
   ]
  },
  {
   "cell_type": "code",
   "execution_count": 505,
   "metadata": {
    "_kg_hide-input": true,
    "execution": {
     "iopub.execute_input": "2020-10-06T09:11:14.909667Z",
     "iopub.status.busy": "2020-10-06T09:11:14.908896Z",
     "iopub.status.idle": "2020-10-06T09:11:16.202594Z",
     "shell.execute_reply": "2020-10-06T09:11:16.203266Z"
    },
    "papermill": {
     "duration": 1.343509,
     "end_time": "2020-10-06T09:11:16.203447",
     "exception": false,
     "start_time": "2020-10-06T09:11:14.859938",
     "status": "completed"
    },
    "scrolled": false,
    "tags": []
   },
   "outputs": [
    {
     "name": "stdout",
     "output_type": "stream",
     "text": [
      "['19 to 25' '15 to 18' '40 and above' '30 to 40' '26 to 30']\n"
     ]
    },
    {
     "data": {
      "image/png": "[encoded data removed]",
      "text/plain": [
       "<Figure size 1088x216 with 5 Axes>"
      ]
     },
     "metadata": {
      "needs_background": "light"
     },
     "output_type": "display_data"
    }
   ],
   "source": [
    "# Finding unique values in Age_range column and plotting histograms over a FacetGrid\n",
    "\n",
    "age_vals=df[\"Age_range\"].unique()\n",
    "print(age_vals)\n",
    "\n",
    "grid = sns.FacetGrid(df, col='Age_range',col_order=age_vals[[1,0,4,3,2]])\n",
    "grid.map_dataframe(sns.histplot,'Exercise_importance', bins=np.arange(7)-0.5, color = 'cyan')\n",
    "grid.add_legend()\n",
    "grid.set(xlim=(0.5,5.6))\n",
    "grid.set(ylim=(0,100))\n",
    "grid.set()\n",
    "grid.set(xlabel=\"Importance of Exercise\")\n",
    "\n",
    "plt.show()"
   ]
  },
  {
   "cell_type": "markdown",
   "metadata": {
    "papermill": {
     "duration": 0.045036,
     "end_time": "2020-10-06T09:11:16.295292",
     "exception": false,
     "start_time": "2020-10-06T09:11:16.250256",
     "status": "completed"
    },
    "tags": []
   },
   "source": [
    "## 3.2. Types of Exercises preferred by participants\n",
    "#### <i> Participants could select more than one option. We split the data records and store them as a dictionary"
   ]
  },
  {
   "cell_type": "code",
   "execution_count": 506,
   "metadata": {
    "_kg_hide-input": true,
    "execution": {
     "iopub.execute_input": "2020-10-06T09:11:16.385156Z",
     "iopub.status.busy": "2020-10-06T09:11:16.384188Z",
     "iopub.status.idle": "2020-10-06T09:11:16.387416Z",
     "shell.execute_reply": "2020-10-06T09:11:16.386708Z"
    },
    "papermill": {
     "duration": 0.050812,
     "end_time": "2020-10-06T09:11:16.387537",
     "exception": false,
     "start_time": "2020-10-06T09:11:16.336725",
     "status": "completed"
    },
    "tags": []
   },
   "outputs": [],
   "source": [
    "# Storing unique exercises and their number of occurences after splitting in a dictionary (exercises_list)\n",
    "\n",
    "exercises_list={}\n",
    "for selected_options in df['Exercises']:\n",
    "    for exercise in selected_options.split(\";\"):\n",
    "        if exercise in exercises_list:\n",
    "            exercises_list[exercise]+=1\n",
    "        else:\n",
    "            exercises_list[exercise]=1\n",
    "\n",
    "        "
   ]
  },
  {
   "cell_type": "code",
   "execution_count": 507,
   "metadata": {
    "execution": {
     "iopub.execute_input": "2020-10-06T09:11:16.474383Z",
     "iopub.status.busy": "2020-10-06T09:11:16.473683Z",
     "iopub.status.idle": "2020-10-06T09:11:16.475898Z",
     "shell.execute_reply": "2020-10-06T09:11:16.476609Z"
    },
    "papermill": {
     "duration": 0.048875,
     "end_time": "2020-10-06T09:11:16.476755",
     "exception": false,
     "start_time": "2020-10-06T09:11:16.427880",
     "status": "completed"
    },
    "tags": []
   },
   "outputs": [
    {
     "name": "stdout",
     "output_type": "stream",
     "text": [
      "{'Walking or jogging': 327, 'Gym': 139, 'Team sport': 92, \"I don't really exercise\": 88, 'Yoga': 81, 'Lifting weights': 47, 'Swimming': 41, 'Zumba dance': 33}\n"
     ]
    }
   ],
   "source": [
    "# A new dictionary is created to store the exercises in order of their number of occurences\n",
    "\n",
    "sorted_list={}\n",
    "for i in sorted(exercises_list,key=exercises_list.get,reverse=True):\n",
    "    sorted_list[i]=exercises_list[i]\n",
    "\n",
    "print(sorted_list)"
   ]
  },
  {
   "cell_type": "code",
   "execution_count": 508,
   "metadata": {
    "_kg_hide-input": true,
    "execution": {
     "iopub.execute_input": "2020-10-06T09:11:16.646867Z",
     "iopub.status.busy": "2020-10-06T09:11:16.646034Z",
     "iopub.status.idle": "2020-10-06T09:11:16.648455Z",
     "shell.execute_reply": "2020-10-06T09:11:16.648976Z"
    },
    "papermill": {
     "duration": 0.04809,
     "end_time": "2020-10-06T09:11:16.649119",
     "exception": false,
     "start_time": "2020-10-06T09:11:16.601029",
     "status": "completed"
    },
    "tags": []
   },
   "outputs": [],
   "source": [
    "# Converting the number of occurences to percentages as a preprocessing task to plot the bar graph\n",
    "\n",
    "count=sum(sorted_list.values())\n",
    "for i in sorted_list:\n",
    "    sorted_list[i]=(sorted_list[i]/count)*100"
   ]
  },
  {
   "cell_type": "code",
   "execution_count": 509,
   "metadata": {
    "execution": {
     "iopub.execute_input": "2020-10-06T09:11:16.737036Z",
     "iopub.status.busy": "2020-10-06T09:11:16.736271Z",
     "iopub.status.idle": "2020-10-06T09:11:16.740454Z",
     "shell.execute_reply": "2020-10-06T09:11:16.739792Z"
    },
    "papermill": {
     "duration": 0.049452,
     "end_time": "2020-10-06T09:11:16.740586",
     "exception": false,
     "start_time": "2020-10-06T09:11:16.691134",
     "status": "completed"
    },
    "tags": []
   },
   "outputs": [
    {
     "data": {
      "text/plain": [
       "{'Walking or jogging': 38.56132075471698,\n",
       " 'Gym': 16.391509433962266,\n",
       " 'Team sport': 10.849056603773585,\n",
       " \"I don't really exercise\": 10.377358490566039,\n",
       " 'Yoga': 9.55188679245283,\n",
       " 'Lifting weights': 5.5424528301886795,\n",
       " 'Swimming': 4.834905660377359,\n",
       " 'Zumba dance': 3.891509433962264}"
      ]
     },
     "execution_count": 509,
     "metadata": {},
     "output_type": "execute_result"
    }
   ],
   "source": [
    "# Viewing the dictionary with percentages\n",
    "\n",
    "sorted_list"
   ]
  },
  {
   "cell_type": "code",
   "execution_count": 510,
   "metadata": {
    "_kg_hide-input": true,
    "execution": {
     "iopub.execute_input": "2020-10-06T09:11:16.840944Z",
     "iopub.status.busy": "2020-10-06T09:11:16.836995Z",
     "iopub.status.idle": "2020-10-06T09:11:17.002090Z",
     "shell.execute_reply": "2020-10-06T09:11:17.001302Z"
    },
    "papermill": {
     "duration": 0.219137,
     "end_time": "2020-10-06T09:11:17.002216",
     "exception": false,
     "start_time": "2020-10-06T09:11:16.783079",
     "status": "completed"
    },
    "tags": []
   },
   "outputs": [
    {
     "data": {
      "image/png": "[encoded data removed]",
      "text/plain": [
       "<Figure size 432x288 with 1 Axes>"
      ]
     },
     "metadata": {
      "needs_background": "light"
     },
     "output_type": "display_data"
    }
   ],
   "source": [
    "#Plotting bar graph (Walking and Jogging is most popular)\n",
    "\n",
    "plt.bar(sorted_list.keys(),sorted_list.values())\n",
    "plt.xticks(rotation=90)\n",
    "plt.title(\"Exercise preferred by Participants\")\n",
    "plt.ylabel(\"Percentage\")\n",
    "plt.ylim(0,100)\n",
    "plt.show()"
   ]
  },
  {
   "cell_type": "markdown",
   "metadata": {
    "papermill": {
     "duration": 0.04739,
     "end_time": "2020-10-06T09:11:17.097544",
     "exception": false,
     "start_time": "2020-10-06T09:11:17.050154",
     "status": "completed"
    },
    "tags": []
   },
   "source": [
    "## 3.3. At what time of the day do people prefer to exercise?"
   ]
  },
  {
   "cell_type": "code",
   "execution_count": 511,
   "metadata": {
    "_kg_hide-input": true,
    "execution": {
     "iopub.execute_input": "2020-10-06T09:11:17.198748Z",
     "iopub.status.busy": "2020-10-06T09:11:17.193907Z",
     "iopub.status.idle": "2020-10-06T09:11:17.334539Z",
     "shell.execute_reply": "2020-10-06T09:11:17.335005Z"
    },
    "papermill": {
     "duration": 0.195721,
     "end_time": "2020-10-06T09:11:17.335149",
     "exception": false,
     "start_time": "2020-10-06T09:11:17.139428",
     "status": "completed"
    },
    "tags": []
   },
   "outputs": [
    {
     "data": {
      "image/png": "[encoded data removed]",
      "text/plain": [
       "<Figure size 432x288 with 1 Axes>"
      ]
     },
     "metadata": {},
     "output_type": "display_data"
    }
   ],
   "source": [
    "# Pie Chart to show the Preferred Time to Exercise\n",
    "\n",
    "times=df[\"Time\"].value_counts(normalize=True)*100\n",
    "plt.pie(times,labels=times.index,explode=(0.05,0.05,0.05),autopct='%.1f%%',\n",
    "        startangle=90, colors = ['yellow','red','cyan'])\n",
    "plt.title(\"Preferred Time to exercise\")\n",
    "plt.show()"
   ]
  },
  {
   "cell_type": "markdown",
   "metadata": {
    "papermill": {
     "duration": 0.043892,
     "end_time": "2020-10-06T09:11:17.423398",
     "exception": false,
     "start_time": "2020-10-06T09:11:17.379506",
     "status": "completed"
    },
    "tags": []
   },
   "source": [
    "## 3.4. Average time spent per day for Exercise?"
   ]
  },
  {
   "cell_type": "code",
   "execution_count": 512,
   "metadata": {
    "execution": {
     "iopub.execute_input": "2020-10-06T09:11:17.519958Z",
     "iopub.status.busy": "2020-10-06T09:11:17.519201Z",
     "iopub.status.idle": "2020-10-06T09:11:17.524377Z",
     "shell.execute_reply": "2020-10-06T09:11:17.523756Z"
    },
    "papermill": {
     "duration": 0.056256,
     "end_time": "2020-10-06T09:11:17.524505",
     "exception": false,
     "start_time": "2020-10-06T09:11:17.468249",
     "status": "completed"
    },
    "tags": []
   },
   "outputs": [
    {
     "data": {
      "text/plain": [
       "array([\"I don't really exercise\", '30 minutes', '1 hour', '2 hours',\n",
       "       '3 hours and above'], dtype=object)"
      ]
     },
     "execution_count": 512,
     "metadata": {},
     "output_type": "execute_result"
    }
   ],
   "source": [
    "# Finding Unique values in Time_spent Column\n",
    "\n",
    "df_time = df[[\"Gender\", \"Age_range\",\"Time_spent\"]]\n",
    "df_time[\"Time_spent\"].unique()"
   ]
  },
  {
   "cell_type": "markdown",
   "metadata": {
    "papermill": {
     "duration": 0.044823,
     "end_time": "2020-10-06T09:11:17.614832",
     "exception": false,
     "start_time": "2020-10-06T09:11:17.570009",
     "status": "completed"
    },
    "tags": []
   },
   "source": [
    "#### To find out approximately, the average time spent by an individual on exercise daily, we convert the 'Time_spent' column into numerical values (minutes)."
   ]
  },
  {
   "cell_type": "code",
   "execution_count": 513,
   "metadata": {
    "_kg_hide-input": true,
    "execution": {
     "iopub.execute_input": "2020-10-06T09:11:17.713413Z",
     "iopub.status.busy": "2020-10-06T09:11:17.712509Z",
     "iopub.status.idle": "2020-10-06T09:11:17.715753Z",
     "shell.execute_reply": "2020-10-06T09:11:17.715107Z"
    },
    "papermill": {
     "duration": 0.056224,
     "end_time": "2020-10-06T09:11:17.715865",
     "exception": false,
     "start_time": "2020-10-06T09:11:17.659641",
     "status": "completed"
    },
    "tags": []
   },
   "outputs": [],
   "source": [
    "# Splitting the data at the first space\n",
    "\n",
    "times=df_time[\"Time_spent\"].str.split(\" \",n=1,expand=True)"
   ]
  },
  {
   "cell_type": "code",
   "execution_count": 514,
   "metadata": {
    "_kg_hide-input": true,
    "execution": {
     "iopub.execute_input": "2020-10-06T09:11:17.811035Z",
     "iopub.status.busy": "2020-10-06T09:11:17.810195Z",
     "iopub.status.idle": "2020-10-06T09:11:17.813032Z",
     "shell.execute_reply": "2020-10-06T09:11:17.812349Z"
    },
    "papermill": {
     "duration": 0.052644,
     "end_time": "2020-10-06T09:11:17.813130",
     "exception": false,
     "start_time": "2020-10-06T09:11:17.760486",
     "status": "completed"
    },
    "tags": []
   },
   "outputs": [
    {
     "name": "stderr",
     "output_type": "stream",
     "text": [
      "<ipython-input-514-187fa00f9225>:1: SettingWithCopyWarning: \n",
      "A value is trying to be set on a copy of a slice from a DataFrame.\n",
      "Try using .loc[row_indexer,col_indexer] = value instead\n",
      "\n",
      "See the caveats in the documentation: https://pandas.pydata.org/pandas-docs/stable/user_guide/indexing.html#returning-a-view-versus-a-copy\n",
      "  df_time[\"Time_spent_minutes\"]=times[0]\n"
     ]
    }
   ],
   "source": [
    "df_time[\"Time_spent_minutes\"]=times[0]"
   ]
  },
  {
   "cell_type": "code",
   "execution_count": 515,
   "metadata": {
    "_kg_hide-input": true,
    "execution": {
     "iopub.execute_input": "2020-10-06T09:11:17.909230Z",
     "iopub.status.busy": "2020-10-06T09:11:17.908284Z",
     "iopub.status.idle": "2020-10-06T09:11:17.911251Z",
     "shell.execute_reply": "2020-10-06T09:11:17.910666Z"
    },
    "papermill": {
     "duration": 0.053391,
     "end_time": "2020-10-06T09:11:17.911357",
     "exception": false,
     "start_time": "2020-10-06T09:11:17.857966",
     "status": "completed"
    },
    "tags": []
   },
   "outputs": [],
   "source": [
    "# Function to convert the categorical values to minutes of integer data type (next 3 cells)\n",
    "\n",
    "def convertor(val):\n",
    "    if val==\"I\":\n",
    "        return 0\n",
    "    else:\n",
    "        return int(val)"
   ]
  },
  {
   "cell_type": "code",
   "execution_count": 516,
   "metadata": {
    "_kg_hide-input": true,
    "execution": {
     "iopub.execute_input": "2020-10-06T09:11:18.007263Z",
     "iopub.status.busy": "2020-10-06T09:11:18.006477Z",
     "iopub.status.idle": "2020-10-06T09:11:18.009492Z",
     "shell.execute_reply": "2020-10-06T09:11:18.008957Z"
    },
    "papermill": {
     "duration": 0.053412,
     "end_time": "2020-10-06T09:11:18.009596",
     "exception": false,
     "start_time": "2020-10-06T09:11:17.956184",
     "status": "completed"
    },
    "tags": []
   },
   "outputs": [
    {
     "name": "stderr",
     "output_type": "stream",
     "text": [
      "<ipython-input-516-bbeb8e417db1>:1: SettingWithCopyWarning: \n",
      "A value is trying to be set on a copy of a slice from a DataFrame.\n",
      "Try using .loc[row_indexer,col_indexer] = value instead\n",
      "\n",
      "See the caveats in the documentation: https://pandas.pydata.org/pandas-docs/stable/user_guide/indexing.html#returning-a-view-versus-a-copy\n",
      "  df_time[\"Time_spent_minutes\"]=df_time[\"Time_spent_minutes\"].apply(convertor)\n"
     ]
    }
   ],
   "source": [
    "df_time[\"Time_spent_minutes\"]=df_time[\"Time_spent_minutes\"].apply(convertor)"
   ]
  },
  {
   "cell_type": "code",
   "execution_count": 517,
   "metadata": {
    "_kg_hide-input": true,
    "execution": {
     "iopub.execute_input": "2020-10-06T09:11:18.106690Z",
     "iopub.status.busy": "2020-10-06T09:11:18.106023Z",
     "iopub.status.idle": "2020-10-06T09:11:18.108320Z",
     "shell.execute_reply": "2020-10-06T09:11:18.108887Z"
    },
    "papermill": {
     "duration": 0.054243,
     "end_time": "2020-10-06T09:11:18.109019",
     "exception": false,
     "start_time": "2020-10-06T09:11:18.054776",
     "status": "completed"
    },
    "tags": []
   },
   "outputs": [
    {
     "name": "stderr",
     "output_type": "stream",
     "text": [
      "<ipython-input-517-9c3a8b0bb5b1>:1: SettingWithCopyWarning: \n",
      "A value is trying to be set on a copy of a slice from a DataFrame.\n",
      "Try using .loc[row_indexer,col_indexer] = value instead\n",
      "\n",
      "See the caveats in the documentation: https://pandas.pydata.org/pandas-docs/stable/user_guide/indexing.html#returning-a-view-versus-a-copy\n",
      "  df_time[\"Time_spent_minutes\"]=df_time[\"Time_spent_minutes\"].apply(lambda x:x*60 if x!=30 else x)\n"
     ]
    }
   ],
   "source": [
    "df_time[\"Time_spent_minutes\"]=df_time[\"Time_spent_minutes\"].apply(lambda x:x*60 if x!=30 else x)"
   ]
  },
  {
   "cell_type": "code",
   "execution_count": 518,
   "metadata": {
    "execution": {
     "iopub.execute_input": "2020-10-06T09:11:18.218598Z",
     "iopub.status.busy": "2020-10-06T09:11:18.217491Z",
     "iopub.status.idle": "2020-10-06T09:11:18.222700Z",
     "shell.execute_reply": "2020-10-06T09:11:18.221983Z"
    },
    "papermill": {
     "duration": 0.068466,
     "end_time": "2020-10-06T09:11:18.222818",
     "exception": false,
     "start_time": "2020-10-06T09:11:18.154352",
     "status": "completed"
    },
    "tags": []
   },
   "outputs": [
    {
     "data": {
      "text/plain": [
       "30     206\n",
       "60     165\n",
       "0      104\n",
       "120     64\n",
       "180      6\n",
       "Name: Time_spent_minutes, dtype: int64"
      ]
     },
     "execution_count": 518,
     "metadata": {},
     "output_type": "execute_result"
    }
   ],
   "source": [
    "df_time[\"Time_spent_minutes\"].value_counts()"
   ]
  },
  {
   "cell_type": "code",
   "execution_count": 519,
   "metadata": {
    "_kg_hide-input": true,
    "execution": {
     "iopub.execute_input": "2020-10-06T09:11:18.341971Z",
     "iopub.status.busy": "2020-10-06T09:11:18.339298Z",
     "iopub.status.idle": "2020-10-06T09:11:18.509449Z",
     "shell.execute_reply": "2020-10-06T09:11:18.510037Z"
    },
    "papermill": {
     "duration": 0.23105,
     "end_time": "2020-10-06T09:11:18.510197",
     "exception": false,
     "start_time": "2020-10-06T09:11:18.279147",
     "status": "completed"
    },
    "tags": []
   },
   "outputs": [
    {
     "data": {
      "image/png": "[encoded data removed]",
      "text/plain": [
       "<Figure size 432x288 with 1 Axes>"
      ]
     },
     "metadata": {
      "needs_background": "light"
     },
     "output_type": "display_data"
    }
   ],
   "source": [
    "# Plotting a horizontal Bar Graph to show Average Time Spent by each Gender\n",
    "\n",
    "df_time.groupby(\"Gender\").mean()[\"Time_spent_minutes\"].plot.barh()\n",
    "for i,v in enumerate(df_time.groupby(\"Gender\").mean()[\"Time_spent_minutes\"]):\n",
    "    plt.text(v,i,(str(round(v,2))+\" mins\"))\n",
    "plt.title(\"Average time spent daily on Exercise by Gender\")\n",
    "plt.xlabel(\"Time (Minutes)\")\n",
    "plt.xlim(0,70)\n",
    "plt.show()"
   ]
  },
  {
   "cell_type": "code",
   "execution_count": 520,
   "metadata": {
    "_kg_hide-input": true,
    "execution": {
     "iopub.execute_input": "2020-10-06T09:11:18.633101Z",
     "iopub.status.busy": "2020-10-06T09:11:18.620583Z",
     "iopub.status.idle": "2020-10-06T09:11:18.798910Z",
     "shell.execute_reply": "2020-10-06T09:11:18.798211Z"
    },
    "papermill": {
     "duration": 0.23594,
     "end_time": "2020-10-06T09:11:18.799025",
     "exception": false,
     "start_time": "2020-10-06T09:11:18.563085",
     "status": "completed"
    },
    "tags": []
   },
   "outputs": [
    {
     "data": {
      "image/png": "[encoded data removed]",
      "text/plain": [
       "<Figure size 432x288 with 1 Axes>"
      ]
     },
     "metadata": {
      "needs_background": "light"
     },
     "output_type": "display_data"
    }
   ],
   "source": [
    "# Plotting a Bar Graph to show the Average Time Spent by each Age Group\n",
    "\n",
    "groups=df_time.groupby(\"Age_range\").mean()[\"Time_spent_minutes\"]\n",
    "ax=sns.barplot(x = groups.index,y = groups, palette = 'viridis')\n",
    "ax.text(0,48,\"Total Average=45.6 minutes\",c=\"black\",fontsize = 15)\n",
    "plt.title(\"Average time spent on Exercise daily by Age\")\n",
    "plt.ylim(10,60)\n",
    "plt.axhline(df_time[\"Time_spent_minutes\"].mean(),color=\"red\")\n",
    "plt.show()"
   ]
  },
  {
   "cell_type": "markdown",
   "metadata": {
    "papermill": {
     "duration": 0.048483,
     "end_time": "2020-10-06T09:11:18.895628",
     "exception": false,
     "start_time": "2020-10-06T09:11:18.847145",
     "status": "completed"
    },
    "tags": []
   },
   "source": [
    "## 3.5. Top motivation factors for daily exercise?"
   ]
  },
  {
   "cell_type": "code",
   "execution_count": 521,
   "metadata": {
    "_kg_hide-input": true,
    "execution": {
     "iopub.execute_input": "2020-10-06T09:11:19.000279Z",
     "iopub.status.busy": "2020-10-06T09:11:18.999602Z",
     "iopub.status.idle": "2020-10-06T09:11:19.003559Z",
     "shell.execute_reply": "2020-10-06T09:11:19.002829Z"
    },
    "papermill": {
     "duration": 0.05974,
     "end_time": "2020-10-06T09:11:19.003675",
     "exception": false,
     "start_time": "2020-10-06T09:11:18.943935",
     "status": "completed"
    },
    "tags": []
   },
   "outputs": [],
   "source": [
    "# Creating a list for unique motivation factors\n",
    "\n",
    "motivation_list={}\n",
    "for selected_options in df['Motivation']:\n",
    "    for motivation in selected_options.split(\";\"):\n",
    "        if motivation in motivation_list:\n",
    "            motivation_list[motivation]+=1\n",
    "        else:\n",
    "            motivation_list[motivation]=1"
   ]
  },
  {
   "cell_type": "code",
   "execution_count": 522,
   "metadata": {
    "execution": {
     "iopub.execute_input": "2020-10-06T09:11:19.106970Z",
     "iopub.status.busy": "2020-10-06T09:11:19.106187Z",
     "iopub.status.idle": "2020-10-06T09:11:19.110586Z",
     "shell.execute_reply": "2020-10-06T09:11:19.109977Z"
    },
    "papermill": {
     "duration": 0.057911,
     "end_time": "2020-10-06T09:11:19.110695",
     "exception": false,
     "start_time": "2020-10-06T09:11:19.052784",
     "status": "completed"
    },
    "tags": []
   },
   "outputs": [
    {
     "data": {
      "text/plain": [
       "{\"I'm sorry ... I'm not really interested in exercising\": 42,\n",
       " 'I want to be fit': 341,\n",
       " 'I want to be flexible': 171,\n",
       " 'I want to relieve stress': 170,\n",
       " 'I want to lose weight': 196,\n",
       " 'I want to increase muscle mass and strength': 88,\n",
       " 'I want to achieve a sporting goal': 53,\n",
       " 'Doing exercises prevents many diseases.So yeah saves a lot of money .': 1,\n",
       " 'Exercising gives you discipline and focus and removed bad thoughts from your mind.': 1,\n",
       " 'Control Diabetes ': 1,\n",
       " 'To maintain healthy body and mind': 1,\n",
       " 'I want to think clearly and I want to play cricket with my grandkids': 1,\n",
       " 'I dont wanna gain weight😉': 1,\n",
       " 'Going to class on time 😉': 1,\n",
       " 'See the answer to what barriers, if any, prevent you from exercising  regularly ': 1,\n",
       " 'My dad motivates me ': 1,\n",
       " 'Reaching class on time 😅': 1,\n",
       " 'Personal reasons': 1,\n",
       " 'Not doing exercise': 1,\n",
       " 'I want to look young and think young': 1,\n",
       " 'Gotta get that alcohol and **** out of the system': 1}"
      ]
     },
     "execution_count": 522,
     "metadata": {},
     "output_type": "execute_result"
    }
   ],
   "source": [
    "# Viewing the List\n",
    "\n",
    "motivation_list"
   ]
  },
  {
   "cell_type": "code",
   "execution_count": 523,
   "metadata": {
    "_kg_hide-input": true,
    "execution": {
     "iopub.execute_input": "2020-10-06T09:11:19.215486Z",
     "iopub.status.busy": "2020-10-06T09:11:19.214442Z",
     "iopub.status.idle": "2020-10-06T09:11:19.217622Z",
     "shell.execute_reply": "2020-10-06T09:11:19.217046Z"
    },
    "papermill": {
     "duration": 0.057127,
     "end_time": "2020-10-06T09:11:19.217732",
     "exception": false,
     "start_time": "2020-10-06T09:11:19.160605",
     "status": "completed"
    },
    "tags": []
   },
   "outputs": [],
   "source": [
    "# Filtering the Top 5 most occurring factors\n",
    "\n",
    "top_5_motivation=pd.DataFrame.from_dict(motivation_list.items()).sort_values(by=1,ascending=False)[:5]"
   ]
  },
  {
   "cell_type": "code",
   "execution_count": 524,
   "metadata": {
    "_kg_hide-input": true,
    "execution": {
     "iopub.execute_input": "2020-10-06T09:11:19.320680Z",
     "iopub.status.busy": "2020-10-06T09:11:19.320008Z",
     "iopub.status.idle": "2020-10-06T09:11:19.323134Z",
     "shell.execute_reply": "2020-10-06T09:11:19.322493Z"
    },
    "papermill": {
     "duration": 0.056833,
     "end_time": "2020-10-06T09:11:19.323235",
     "exception": false,
     "start_time": "2020-10-06T09:11:19.266402",
     "status": "completed"
    },
    "tags": []
   },
   "outputs": [],
   "source": [
    "# Removing redundant information from Top 5 Factors\n",
    "\n",
    "top_5_motivation[0]=top_5_motivation[0].apply(lambda x:x.replace(\"I want to \",\"\"))"
   ]
  },
  {
   "cell_type": "code",
   "execution_count": 525,
   "metadata": {
    "_kg_hide-input": true,
    "execution": {
     "iopub.execute_input": "2020-10-06T09:11:19.432871Z",
     "iopub.status.busy": "2020-10-06T09:11:19.431876Z",
     "iopub.status.idle": "2020-10-06T09:11:19.609046Z",
     "shell.execute_reply": "2020-10-06T09:11:19.609569Z"
    },
    "papermill": {
     "duration": 0.237281,
     "end_time": "2020-10-06T09:11:19.609715",
     "exception": false,
     "start_time": "2020-10-06T09:11:19.372434",
     "status": "completed"
    },
    "tags": []
   },
   "outputs": [
    {
     "data": {
      "image/png": "[encoded data removed]",
      "text/plain": [
       "<Figure size 432x288 with 1 Axes>"
      ]
     },
     "metadata": {
      "needs_background": "light"
     },
     "output_type": "display_data"
    }
   ],
   "source": [
    "# Plotting a Bar Graph showing the Top 5 Motivation Factors\n",
    "\n",
    "sns.barplot(x=0,y=1,data=top_5_motivation, palette = 'cubehelix')\n",
    "plt.xticks(rotation=90)\n",
    "plt.ylabel(\"Number of responses\")\n",
    "plt.title(\"Top five reasons to exercise\", fontsize = 20)\n",
    "plt.xlabel(\"\")\n",
    "plt.show()"
   ]
  },
  {
   "cell_type": "markdown",
   "metadata": {
    "papermill": {
     "duration": 0.050095,
     "end_time": "2020-10-06T09:11:19.711413",
     "exception": false,
     "start_time": "2020-10-06T09:11:19.661318",
     "status": "completed"
    },
    "tags": []
   },
   "source": [
    "## 3.6. Top Barriers from performing daily exercise?"
   ]
  },
  {
   "cell_type": "code",
   "execution_count": 526,
   "metadata": {
    "_kg_hide-input": true,
    "execution": {
     "iopub.execute_input": "2020-10-06T09:11:19.819062Z",
     "iopub.status.busy": "2020-10-06T09:11:19.818133Z",
     "iopub.status.idle": "2020-10-06T09:11:19.821182Z",
     "shell.execute_reply": "2020-10-06T09:11:19.820628Z"
    },
    "papermill": {
     "duration": 0.059785,
     "end_time": "2020-10-06T09:11:19.821312",
     "exception": false,
     "start_time": "2020-10-06T09:11:19.761527",
     "status": "completed"
    },
    "tags": []
   },
   "outputs": [],
   "source": [
    "# Creating a dictionary for unique barriers\n",
    "\n",
    "barrier_list={}\n",
    "for selected_options in df['Barriers']:\n",
    "    for barrier in selected_options.split(\";\"):\n",
    "        if barrier in barrier_list:\n",
    "            barrier_list[barrier]+=1\n",
    "        else:\n",
    "            barrier_list[barrier]=1"
   ]
  },
  {
   "cell_type": "code",
   "execution_count": 527,
   "metadata": {
    "execution": {
     "iopub.execute_input": "2020-10-06T09:11:19.929857Z",
     "iopub.status.busy": "2020-10-06T09:11:19.928876Z",
     "iopub.status.idle": "2020-10-06T09:11:19.933372Z",
     "shell.execute_reply": "2020-10-06T09:11:19.932689Z"
    },
    "papermill": {
     "duration": 0.061855,
     "end_time": "2020-10-06T09:11:19.933500",
     "exception": false,
     "start_time": "2020-10-06T09:11:19.871645",
     "status": "completed"
    },
    "tags": []
   },
   "outputs": [
    {
     "data": {
      "text/plain": [
       "{\"I don't have enough time\": 292,\n",
       " \"I can't stay motivated\": 176,\n",
       " \"I'll become too tired\": 111,\n",
       " 'I exercise regularly with no barriers': 66,\n",
       " \"I don't really enjoy exercising\": 59,\n",
       " 'Less stamina': 1,\n",
       " 'I have an injury': 31,\n",
       " 'I am not regular in anything': 1,\n",
       " 'I am lazy': 1,\n",
       " 'Laziness ': 2,\n",
       " \"I'm too lazy\": 1,\n",
       " 'Laziness': 3,\n",
       " 'Lazy': 1,\n",
       " 'No gym near me': 1,\n",
       " 'Travel': 1,\n",
       " 'Allergies': 1,\n",
       " 'I always busy with my regular works': 1,\n",
       " \"My friends don't come \": 1,\n",
       " 'Laziness mostly ': 2,\n",
       " 'Travel time I skip': 1}"
      ]
     },
     "execution_count": 527,
     "metadata": {},
     "output_type": "execute_result"
    }
   ],
   "source": [
    "# Viewing the list of barriers\n",
    "barrier_list"
   ]
  },
  {
   "cell_type": "code",
   "execution_count": 528,
   "metadata": {
    "_kg_hide-input": true,
    "execution": {
     "iopub.execute_input": "2020-10-06T09:11:20.044760Z",
     "iopub.status.busy": "2020-10-06T09:11:20.044026Z",
     "iopub.status.idle": "2020-10-06T09:11:20.047639Z",
     "shell.execute_reply": "2020-10-06T09:11:20.047041Z"
    },
    "papermill": {
     "duration": 0.06279,
     "end_time": "2020-10-06T09:11:20.047751",
     "exception": false,
     "start_time": "2020-10-06T09:11:19.984961",
     "status": "completed"
    },
    "tags": []
   },
   "outputs": [],
   "source": [
    "# Dropping 4th Row as it doesn't count as a barrier\n",
    "# Selecting the Top 5 Barriers\n",
    "\n",
    "top_5_barrier=pd.DataFrame.from_dict(barrier_list.items()).sort_values(by=1,ascending=False)[:6].drop(3,axis=0)"
   ]
  },
  {
   "cell_type": "code",
   "execution_count": 529,
   "metadata": {
    "_kg_hide-input": true,
    "execution": {
     "iopub.execute_input": "2020-10-06T09:11:20.256649Z",
     "iopub.status.busy": "2020-10-06T09:11:20.255956Z",
     "iopub.status.idle": "2020-10-06T09:11:20.259152Z",
     "shell.execute_reply": "2020-10-06T09:11:20.258618Z"
    },
    "papermill": {
     "duration": 0.059363,
     "end_time": "2020-10-06T09:11:20.259261",
     "exception": false,
     "start_time": "2020-10-06T09:11:20.199898",
     "status": "completed"
    },
    "tags": []
   },
   "outputs": [],
   "source": [
    "# Converting the number of occurrences of each barrier into a percentage\n",
    "\n",
    "top_5_barrier[\"Percentage\"]=(top_5_barrier[1]/top_5_barrier[1].sum())*100"
   ]
  },
  {
   "cell_type": "code",
   "execution_count": 530,
   "metadata": {
    "execution": {
     "iopub.execute_input": "2020-10-06T09:11:20.372210Z",
     "iopub.status.busy": "2020-10-06T09:11:20.371229Z",
     "iopub.status.idle": "2020-10-06T09:11:20.375154Z",
     "shell.execute_reply": "2020-10-06T09:11:20.375899Z"
    },
    "papermill": {
     "duration": 0.065056,
     "end_time": "2020-10-06T09:11:20.376042",
     "exception": false,
     "start_time": "2020-10-06T09:11:20.310986",
     "status": "completed"
    },
    "tags": []
   },
   "outputs": [
    {
     "data": {
      "text/html": [
       "<div>\n",
       "<style scoped>\n",
       "    .dataframe tbody tr th:only-of-type {\n",
       "        vertical-align: middle;\n",
       "    }\n",
       "\n",
       "    .dataframe tbody tr th {\n",
       "        vertical-align: top;\n",
       "    }\n",
       "\n",
       "    .dataframe thead th {\n",
       "        text-align: right;\n",
       "    }\n",
       "</style>\n",
       "<table border=\"1\" class=\"dataframe\">\n",
       "  <thead>\n",
       "    <tr style=\"text-align: right;\">\n",
       "      <th></th>\n",
       "      <th>0</th>\n",
       "      <th>1</th>\n",
       "      <th>Percentage</th>\n",
       "    </tr>\n",
       "  </thead>\n",
       "  <tbody>\n",
       "    <tr>\n",
       "      <th>0</th>\n",
       "      <td>I don't have enough time</td>\n",
       "      <td>292</td>\n",
       "      <td>43.647235</td>\n",
       "    </tr>\n",
       "    <tr>\n",
       "      <th>1</th>\n",
       "      <td>I can't stay motivated</td>\n",
       "      <td>176</td>\n",
       "      <td>26.307922</td>\n",
       "    </tr>\n",
       "    <tr>\n",
       "      <th>2</th>\n",
       "      <td>I'll become too tired</td>\n",
       "      <td>111</td>\n",
       "      <td>16.591928</td>\n",
       "    </tr>\n",
       "    <tr>\n",
       "      <th>4</th>\n",
       "      <td>I don't really enjoy exercising</td>\n",
       "      <td>59</td>\n",
       "      <td>8.819133</td>\n",
       "    </tr>\n",
       "    <tr>\n",
       "      <th>6</th>\n",
       "      <td>I have an injury</td>\n",
       "      <td>31</td>\n",
       "      <td>4.633782</td>\n",
       "    </tr>\n",
       "  </tbody>\n",
       "</table>\n",
       "</div>"
      ],
      "text/plain": [
       "                                 0    1  Percentage\n",
       "0         I don't have enough time  292   43.647235\n",
       "1           I can't stay motivated  176   26.307922\n",
       "2            I'll become too tired  111   16.591928\n",
       "4  I don't really enjoy exercising   59    8.819133\n",
       "6                 I have an injury   31    4.633782"
      ]
     },
     "execution_count": 530,
     "metadata": {},
     "output_type": "execute_result"
    }
   ],
   "source": [
    "# Viewing the Top 5 Barriers\n",
    "\n",
    "top_5_barrier"
   ]
  },
  {
   "cell_type": "code",
   "execution_count": 531,
   "metadata": {
    "_kg_hide-input": true,
    "execution": {
     "iopub.execute_input": "2020-10-06T09:11:20.501866Z",
     "iopub.status.busy": "2020-10-06T09:11:20.496489Z",
     "iopub.status.idle": "2020-10-06T09:11:20.591119Z",
     "shell.execute_reply": "2020-10-06T09:11:20.590346Z"
    },
    "papermill": {
     "duration": 0.156032,
     "end_time": "2020-10-06T09:11:20.591244",
     "exception": false,
     "start_time": "2020-10-06T09:11:20.435212",
     "status": "completed"
    },
    "scrolled": true,
    "tags": []
   },
   "outputs": [
    {
     "data": {
      "image/png": "[encoded data removed]",
      "text/plain": [
       "<Figure size 432x288 with 1 Axes>"
      ]
     },
     "metadata": {},
     "output_type": "display_data"
    }
   ],
   "source": [
    "# Plotting a Pie Chart to show the Top 5 Barriers and their percentages\n",
    "\n",
    "plt.pie(top_5_barrier[\"Percentage\"],labels=top_5_barrier[0],autopct=\"%.1f%%\",shadow=True)\n",
    "centre_circle = plt.Circle((0,0),0.3,color='black', fc='white',linewidth=1.5)\n",
    "fig = plt.gcf()\n",
    "fig.gca().add_artist(centre_circle)\n",
    "plt.title(\"Top 5 barriers to daily exercise\", fontsize = 16)\n",
    "plt.show()"
   ]
  },
  {
   "cell_type": "markdown",
   "metadata": {},
   "source": [
    "## 4. Encoding Data"
   ]
  },
  {
   "cell_type": "markdown",
   "metadata": {},
   "source": [
    "## 4.1. Finding Unique Values in Columns"
   ]
  },
  {
   "cell_type": "code",
   "execution_count": 532,
   "metadata": {},
   "outputs": [
    {
     "name": "stdout",
     "output_type": "stream",
     "text": [
      "['Female' 'Male']\n",
      "['19 to 25' '15 to 18' '40 and above' '30 to 40' '26 to 30']\n",
      "['Good' 'Very good' 'Unfit' 'Average' 'Perfect']\n",
      "['Never' '1 to 2 times a week' '3 to 4 times a week' 'Everyday'\n",
      " '2 to 3 times a week' '5 to 6 times a week']\n",
      "[\"I don't really exercise\" 'With a group' 'Alone' 'With a friend'\n",
      " 'Within a class environment']\n",
      "['Early morning' 'Evening' 'Afternoon']\n",
      "[\"I don't really exercise\" '30 minutes' '1 hour' '2 hours'\n",
      " '3 hours and above']\n",
      "['Not always' 'Yes' 'No']\n",
      "['Yes' 'No']\n",
      "['No' 'Yes']\n"
     ]
    }
   ],
   "source": [
    "# Finding Unique Values in necessary Columns\n",
    "\n",
    "gender_vals=df[\"Gender\"].unique()\n",
    "print(gender_vals)\n",
    "age_vals=df[\"Age_range\"].unique()\n",
    "print(age_vals)\n",
    "fit_lev_vals=df[\"Fitness_level\"].unique()\n",
    "print(fit_lev_vals)\n",
    "reg_vals=df['Regularity'].unique()\n",
    "print(reg_vals)\n",
    "do_you_vals=df['Do_you'].unique()\n",
    "print(do_you_vals)\n",
    "time_vals=df['Time'].unique()\n",
    "print(time_vals)\n",
    "time_spent_vals=df['Time_spent'].unique()\n",
    "print(time_spent_vals)\n",
    "bal_diet_vals=df['Balanced_diet'].unique()\n",
    "print(bal_diet_vals)\n",
    "rec_fit_vals=df['Recommend_fitness'].unique()\n",
    "print(rec_fit_vals)\n",
    "equ_own_vals=df['Equipment'].unique()\n",
    "print(equ_own_vals)"
   ]
  },
  {
   "cell_type": "markdown",
   "metadata": {},
   "source": [
    "## 4.2. Encoding the Unique Values"
   ]
  },
  {
   "cell_type": "code",
   "execution_count": 533,
   "metadata": {},
   "outputs": [],
   "source": [
    "# Creating objects of OrdinalEncoding \n",
    "\n",
    "encoder= ce.OrdinalEncoder(cols=[['Gender', 'Age_range', 'Fitness_level', 'Regularity', \n",
    "                                  'Do_you', 'Time', 'Time_spent', 'Balanced_diet', \n",
    "                                  'Recommend_fitness', 'Equipment']],return_df=True,\n",
    "                           mapping=[\n",
    "       ## 4.1. Finding Unique Values in Columns                        \n",
    "                               {'col' : 'Gender',\n",
    "                               'mapping' : {'Female' : 1, 'Male' : 2}},\n",
    "                        \n",
    "                               {'col' : 'Age_range',\n",
    "                               'mapping' : {'15 to 18' : 1, '19 to 25' : 2, '26 to 30' : 3, \n",
    "                                            '30 to 40' : 4, '40 and above' : 5}},\n",
    "                               \n",
    "                               {'col' : 'Fitness_level',\n",
    "                               'mapping' : {'Unfit' : 1, 'Average' : 2, 'Good' : 3, \n",
    "                                            'Very good' : 4, 'Perfect' : 5}},\n",
    "                               \n",
    "                               {'col' : 'Regularity',\n",
    "                               'mapping' : {'Never' : 1, '1 to 2 times a week' : 2, '2 to 3 times a week' : 3, \n",
    "                                            '3 to 4 times a week' : 4, '5 to 6 times a week' : 5, 'Everyday' : 6}},\n",
    "                               \n",
    "                               {'col' : 'Do_you',\n",
    "                               'mapping' : {\"I don't really exercise\" : 1, 'Alone' : 2, 'With a friend' : 3, \n",
    "                                            'With a group' : 4, 'Within a class environment' : 5}},\n",
    "                               \n",
    "                               {'col' : 'Time',\n",
    "                               'mapping' : {'Early morning' : 1, 'Afternoon' : 2, 'Evening' : 3}},\n",
    "                               \n",
    "                               {'col' : 'Time_spent',\n",
    "                               'mapping' : {\"I don't really exercise\" : 0, '30 minutes' : 1, '1 hour' : 2, \n",
    "                                            '2 hours' : 3, '3 hours and above' : 4}},\n",
    "                               \n",
    "                               {'col' : 'Balanced_diet',\n",
    "                               'mapping' : {'No' : 0, 'Not always' : 1,  'Yes' : 2}},\n",
    "                               \n",
    "                               {'col' : 'Recommend_fitness',\n",
    "                               'mapping' : {'No' : 0, 'Yes' : 1}},\n",
    "                               \n",
    "                               {'col' : 'Equipment',\n",
    "                               'mapping' : {'No' : 0, 'Yes' : 1}}                          \n",
    "                               \n",
    "                           ])"
   ]
  },
  {
   "cell_type": "code",
   "execution_count": 534,
   "metadata": {},
   "outputs": [
    {
     "name": "stderr",
     "output_type": "stream",
     "text": [
      "C:\\Users\\purav\\anaconda3\\lib\\site-packages\\category_encoders\\utils.py:21: FutureWarning: is_categorical is deprecated and will be removed in a future version.  Use is_categorical_dtype instead\n",
      "  elif pd.api.types.is_categorical(cols):\n"
     ]
    },
    {
     "data": {
      "text/html": [
       "<div>\n",
       "<style scoped>\n",
       "    .dataframe tbody tr th:only-of-type {\n",
       "        vertical-align: middle;\n",
       "    }\n",
       "\n",
       "    .dataframe tbody tr th {\n",
       "        vertical-align: top;\n",
       "    }\n",
       "\n",
       "    .dataframe thead th {\n",
       "        text-align: right;\n",
       "    }\n",
       "</style>\n",
       "<table border=\"1\" class=\"dataframe\">\n",
       "  <thead>\n",
       "    <tr style=\"text-align: right;\">\n",
       "      <th></th>\n",
       "      <th>Gender</th>\n",
       "      <th>Age_range</th>\n",
       "      <th>Exercise_importance</th>\n",
       "      <th>Fitness_level</th>\n",
       "      <th>Regularity</th>\n",
       "      <th>Do_you</th>\n",
       "      <th>Time</th>\n",
       "      <th>Time_spent</th>\n",
       "      <th>Balanced_diet</th>\n",
       "      <th>Health_level</th>\n",
       "      <th>Recommend_fitness</th>\n",
       "      <th>Equipment</th>\n",
       "    </tr>\n",
       "  </thead>\n",
       "  <tbody>\n",
       "    <tr>\n",
       "      <th>0</th>\n",
       "      <td>1</td>\n",
       "      <td>2</td>\n",
       "      <td>3</td>\n",
       "      <td>3</td>\n",
       "      <td>1</td>\n",
       "      <td>1</td>\n",
       "      <td>1</td>\n",
       "      <td>0</td>\n",
       "      <td>1</td>\n",
       "      <td>3</td>\n",
       "      <td>1</td>\n",
       "      <td>0</td>\n",
       "    </tr>\n",
       "    <tr>\n",
       "      <th>1</th>\n",
       "      <td>1</td>\n",
       "      <td>2</td>\n",
       "      <td>4</td>\n",
       "      <td>4</td>\n",
       "      <td>1</td>\n",
       "      <td>4</td>\n",
       "      <td>1</td>\n",
       "      <td>0</td>\n",
       "      <td>1</td>\n",
       "      <td>4</td>\n",
       "      <td>1</td>\n",
       "      <td>0</td>\n",
       "    </tr>\n",
       "    <tr>\n",
       "      <th>2</th>\n",
       "      <td>1</td>\n",
       "      <td>2</td>\n",
       "      <td>3</td>\n",
       "      <td>3</td>\n",
       "      <td>2</td>\n",
       "      <td>2</td>\n",
       "      <td>1</td>\n",
       "      <td>1</td>\n",
       "      <td>1</td>\n",
       "      <td>4</td>\n",
       "      <td>1</td>\n",
       "      <td>1</td>\n",
       "    </tr>\n",
       "    <tr>\n",
       "      <th>3</th>\n",
       "      <td>1</td>\n",
       "      <td>1</td>\n",
       "      <td>4</td>\n",
       "      <td>3</td>\n",
       "      <td>4</td>\n",
       "      <td>2</td>\n",
       "      <td>3</td>\n",
       "      <td>2</td>\n",
       "      <td>2</td>\n",
       "      <td>3</td>\n",
       "      <td>1</td>\n",
       "      <td>0</td>\n",
       "    </tr>\n",
       "    <tr>\n",
       "      <th>4</th>\n",
       "      <td>1</td>\n",
       "      <td>2</td>\n",
       "      <td>3</td>\n",
       "      <td>1</td>\n",
       "      <td>1</td>\n",
       "      <td>1</td>\n",
       "      <td>3</td>\n",
       "      <td>0</td>\n",
       "      <td>2</td>\n",
       "      <td>4</td>\n",
       "      <td>1</td>\n",
       "      <td>0</td>\n",
       "    </tr>\n",
       "  </tbody>\n",
       "</table>\n",
       "</div>"
      ],
      "text/plain": [
       "   Gender  Age_range  Exercise_importance  Fitness_level  Regularity  Do_you  \\\n",
       "0       1          2                    3              3           1       1   \n",
       "1       1          2                    4              4           1       4   \n",
       "2       1          2                    3              3           2       2   \n",
       "3       1          1                    4              3           4       2   \n",
       "4       1          2                    3              1           1       1   \n",
       "\n",
       "   Time  Time_spent  Balanced_diet  Health_level  Recommend_fitness  Equipment  \n",
       "0     1           0              1             3                  1          0  \n",
       "1     1           0              1             4                  1          0  \n",
       "2     1           1              1             4                  1          1  \n",
       "3     3           2              2             3                  1          0  \n",
       "4     3           0              2             4                  1          0  "
      ]
     },
     "execution_count": 534,
     "metadata": {},
     "output_type": "execute_result"
    }
   ],
   "source": [
    "# Fit and Transform Training data\n",
    "\n",
    "df_encode = encoder.fit_transform(df)\n",
    "df1 = df_encode.drop(columns = ['Barriers','Exercises','Prevents_balanced_diet','Motivation'])\n",
    "df1.head()\n"
   ]
  },
  {
   "cell_type": "code",
   "execution_count": 535,
   "metadata": {},
   "outputs": [
    {
     "name": "stdout",
     "output_type": "stream",
     "text": [
      "<class 'pandas.core.frame.DataFrame'>\n",
      "RangeIndex: 545 entries, 0 to 544\n",
      "Data columns (total 12 columns):\n",
      " #   Column               Non-Null Count  Dtype\n",
      "---  ------               --------------  -----\n",
      " 0   Gender               545 non-null    int32\n",
      " 1   Age_range            545 non-null    int32\n",
      " 2   Exercise_importance  545 non-null    int32\n",
      " 3   Fitness_level        545 non-null    int32\n",
      " 4   Regularity           545 non-null    int32\n",
      " 5   Do_you               545 non-null    int32\n",
      " 6   Time                 545 non-null    int32\n",
      " 7   Time_spent           545 non-null    int32\n",
      " 8   Balanced_diet        545 non-null    int32\n",
      " 9   Health_level         545 non-null    int32\n",
      " 10  Recommend_fitness    545 non-null    int32\n",
      " 11  Equipment            545 non-null    int32\n",
      "dtypes: int32(12)\n",
      "memory usage: 25.7 KB\n"
     ]
    }
   ],
   "source": [
    "# Viewing Columns Datatypes and other information\n",
    "\n",
    "df1.info()"
   ]
  },
  {
   "cell_type": "markdown",
   "metadata": {},
   "source": [
    "## 4.3. Correlation in Data"
   ]
  },
  {
   "cell_type": "code",
   "execution_count": 536,
   "metadata": {},
   "outputs": [
    {
     "data": {
      "text/html": [
       "<div>\n",
       "<style scoped>\n",
       "    .dataframe tbody tr th:only-of-type {\n",
       "        vertical-align: middle;\n",
       "    }\n",
       "\n",
       "    .dataframe tbody tr th {\n",
       "        vertical-align: top;\n",
       "    }\n",
       "\n",
       "    .dataframe thead th {\n",
       "        text-align: right;\n",
       "    }\n",
       "</style>\n",
       "<table border=\"1\" class=\"dataframe\">\n",
       "  <thead>\n",
       "    <tr style=\"text-align: right;\">\n",
       "      <th></th>\n",
       "      <th>Gender</th>\n",
       "      <th>Age_range</th>\n",
       "      <th>Exercise_importance</th>\n",
       "      <th>Fitness_level</th>\n",
       "      <th>Regularity</th>\n",
       "      <th>Do_you</th>\n",
       "      <th>Time</th>\n",
       "      <th>Time_spent</th>\n",
       "      <th>Balanced_diet</th>\n",
       "      <th>Health_level</th>\n",
       "      <th>Recommend_fitness</th>\n",
       "      <th>Equipment</th>\n",
       "    </tr>\n",
       "  </thead>\n",
       "  <tbody>\n",
       "    <tr>\n",
       "      <th>Gender</th>\n",
       "      <td>1.000000</td>\n",
       "      <td>0.101137</td>\n",
       "      <td>0.137785</td>\n",
       "      <td>0.045709</td>\n",
       "      <td>0.137449</td>\n",
       "      <td>0.103262</td>\n",
       "      <td>-0.038939</td>\n",
       "      <td>0.262402</td>\n",
       "      <td>-0.001919</td>\n",
       "      <td>0.115741</td>\n",
       "      <td>-0.048654</td>\n",
       "      <td>0.030284</td>\n",
       "    </tr>\n",
       "    <tr>\n",
       "      <th>Age_range</th>\n",
       "      <td>0.101137</td>\n",
       "      <td>1.000000</td>\n",
       "      <td>0.129139</td>\n",
       "      <td>0.002038</td>\n",
       "      <td>0.030284</td>\n",
       "      <td>-0.138685</td>\n",
       "      <td>-0.125141</td>\n",
       "      <td>-0.021946</td>\n",
       "      <td>0.143699</td>\n",
       "      <td>0.042231</td>\n",
       "      <td>0.103587</td>\n",
       "      <td>0.076961</td>\n",
       "    </tr>\n",
       "    <tr>\n",
       "      <th>Exercise_importance</th>\n",
       "      <td>0.137785</td>\n",
       "      <td>0.129139</td>\n",
       "      <td>1.000000</td>\n",
       "      <td>0.202351</td>\n",
       "      <td>0.408735</td>\n",
       "      <td>0.208616</td>\n",
       "      <td>-0.029350</td>\n",
       "      <td>0.358586</td>\n",
       "      <td>0.013189</td>\n",
       "      <td>0.141669</td>\n",
       "      <td>0.355518</td>\n",
       "      <td>0.135368</td>\n",
       "    </tr>\n",
       "    <tr>\n",
       "      <th>Fitness_level</th>\n",
       "      <td>0.045709</td>\n",
       "      <td>0.002038</td>\n",
       "      <td>0.202351</td>\n",
       "      <td>1.000000</td>\n",
       "      <td>0.410330</td>\n",
       "      <td>0.234122</td>\n",
       "      <td>0.148926</td>\n",
       "      <td>0.324888</td>\n",
       "      <td>0.217800</td>\n",
       "      <td>0.540555</td>\n",
       "      <td>0.165791</td>\n",
       "      <td>0.124595</td>\n",
       "    </tr>\n",
       "    <tr>\n",
       "      <th>Regularity</th>\n",
       "      <td>0.137449</td>\n",
       "      <td>0.030284</td>\n",
       "      <td>0.408735</td>\n",
       "      <td>0.410330</td>\n",
       "      <td>1.000000</td>\n",
       "      <td>0.358681</td>\n",
       "      <td>0.059480</td>\n",
       "      <td>0.547742</td>\n",
       "      <td>0.092682</td>\n",
       "      <td>0.271045</td>\n",
       "      <td>0.216662</td>\n",
       "      <td>0.126444</td>\n",
       "    </tr>\n",
       "    <tr>\n",
       "      <th>Do_you</th>\n",
       "      <td>0.103262</td>\n",
       "      <td>-0.138685</td>\n",
       "      <td>0.208616</td>\n",
       "      <td>0.234122</td>\n",
       "      <td>0.358681</td>\n",
       "      <td>1.000000</td>\n",
       "      <td>0.132236</td>\n",
       "      <td>0.499735</td>\n",
       "      <td>0.015114</td>\n",
       "      <td>0.187942</td>\n",
       "      <td>0.127931</td>\n",
       "      <td>0.094384</td>\n",
       "    </tr>\n",
       "    <tr>\n",
       "      <th>Time</th>\n",
       "      <td>-0.038939</td>\n",
       "      <td>-0.125141</td>\n",
       "      <td>-0.029350</td>\n",
       "      <td>0.148926</td>\n",
       "      <td>0.059480</td>\n",
       "      <td>0.132236</td>\n",
       "      <td>1.000000</td>\n",
       "      <td>0.150455</td>\n",
       "      <td>0.001534</td>\n",
       "      <td>0.010031</td>\n",
       "      <td>0.025632</td>\n",
       "      <td>0.111607</td>\n",
       "    </tr>\n",
       "    <tr>\n",
       "      <th>Time_spent</th>\n",
       "      <td>0.262402</td>\n",
       "      <td>-0.021946</td>\n",
       "      <td>0.358586</td>\n",
       "      <td>0.324888</td>\n",
       "      <td>0.547742</td>\n",
       "      <td>0.499735</td>\n",
       "      <td>0.150455</td>\n",
       "      <td>1.000000</td>\n",
       "      <td>0.043754</td>\n",
       "      <td>0.266649</td>\n",
       "      <td>0.245466</td>\n",
       "      <td>0.134948</td>\n",
       "    </tr>\n",
       "    <tr>\n",
       "      <th>Balanced_diet</th>\n",
       "      <td>-0.001919</td>\n",
       "      <td>0.143699</td>\n",
       "      <td>0.013189</td>\n",
       "      <td>0.217800</td>\n",
       "      <td>0.092682</td>\n",
       "      <td>0.015114</td>\n",
       "      <td>0.001534</td>\n",
       "      <td>0.043754</td>\n",
       "      <td>1.000000</td>\n",
       "      <td>0.247705</td>\n",
       "      <td>0.056144</td>\n",
       "      <td>0.074825</td>\n",
       "    </tr>\n",
       "    <tr>\n",
       "      <th>Health_level</th>\n",
       "      <td>0.115741</td>\n",
       "      <td>0.042231</td>\n",
       "      <td>0.141669</td>\n",
       "      <td>0.540555</td>\n",
       "      <td>0.271045</td>\n",
       "      <td>0.187942</td>\n",
       "      <td>0.010031</td>\n",
       "      <td>0.266649</td>\n",
       "      <td>0.247705</td>\n",
       "      <td>1.000000</td>\n",
       "      <td>0.147364</td>\n",
       "      <td>0.119838</td>\n",
       "    </tr>\n",
       "    <tr>\n",
       "      <th>Recommend_fitness</th>\n",
       "      <td>-0.048654</td>\n",
       "      <td>0.103587</td>\n",
       "      <td>0.355518</td>\n",
       "      <td>0.165791</td>\n",
       "      <td>0.216662</td>\n",
       "      <td>0.127931</td>\n",
       "      <td>0.025632</td>\n",
       "      <td>0.245466</td>\n",
       "      <td>0.056144</td>\n",
       "      <td>0.147364</td>\n",
       "      <td>1.000000</td>\n",
       "      <td>0.099764</td>\n",
       "    </tr>\n",
       "    <tr>\n",
       "      <th>Equipment</th>\n",
       "      <td>0.030284</td>\n",
       "      <td>0.076961</td>\n",
       "      <td>0.135368</td>\n",
       "      <td>0.124595</td>\n",
       "      <td>0.126444</td>\n",
       "      <td>0.094384</td>\n",
       "      <td>0.111607</td>\n",
       "      <td>0.134948</td>\n",
       "      <td>0.074825</td>\n",
       "      <td>0.119838</td>\n",
       "      <td>0.099764</td>\n",
       "      <td>1.000000</td>\n",
       "    </tr>\n",
       "  </tbody>\n",
       "</table>\n",
       "</div>"
      ],
      "text/plain": [
       "                       Gender  Age_range  Exercise_importance  Fitness_level  \\\n",
       "Gender               1.000000   0.101137             0.137785       0.045709   \n",
       "Age_range            0.101137   1.000000             0.129139       0.002038   \n",
       "Exercise_importance  0.137785   0.129139             1.000000       0.202351   \n",
       "Fitness_level        0.045709   0.002038             0.202351       1.000000   \n",
       "Regularity           0.137449   0.030284             0.408735       0.410330   \n",
       "Do_you               0.103262  -0.138685             0.208616       0.234122   \n",
       "Time                -0.038939  -0.125141            -0.029350       0.148926   \n",
       "Time_spent           0.262402  -0.021946             0.358586       0.324888   \n",
       "Balanced_diet       -0.001919   0.143699             0.013189       0.217800   \n",
       "Health_level         0.115741   0.042231             0.141669       0.540555   \n",
       "Recommend_fitness   -0.048654   0.103587             0.355518       0.165791   \n",
       "Equipment            0.030284   0.076961             0.135368       0.124595   \n",
       "\n",
       "                     Regularity    Do_you      Time  Time_spent  \\\n",
       "Gender                 0.137449  0.103262 -0.038939    0.262402   \n",
       "Age_range              0.030284 -0.138685 -0.125141   -0.021946   \n",
       "Exercise_importance    0.408735  0.208616 -0.029350    0.358586   \n",
       "Fitness_level          0.410330  0.234122  0.148926    0.324888   \n",
       "Regularity             1.000000  0.358681  0.059480    0.547742   \n",
       "Do_you                 0.358681  1.000000  0.132236    0.499735   \n",
       "Time                   0.059480  0.132236  1.000000    0.150455   \n",
       "Time_spent             0.547742  0.499735  0.150455    1.000000   \n",
       "Balanced_diet          0.092682  0.015114  0.001534    0.043754   \n",
       "Health_level           0.271045  0.187942  0.010031    0.266649   \n",
       "Recommend_fitness      0.216662  0.127931  0.025632    0.245466   \n",
       "Equipment              0.126444  0.094384  0.111607    0.134948   \n",
       "\n",
       "                     Balanced_diet  Health_level  Recommend_fitness  Equipment  \n",
       "Gender                   -0.001919      0.115741          -0.048654   0.030284  \n",
       "Age_range                 0.143699      0.042231           0.103587   0.076961  \n",
       "Exercise_importance       0.013189      0.141669           0.355518   0.135368  \n",
       "Fitness_level             0.217800      0.540555           0.165791   0.124595  \n",
       "Regularity                0.092682      0.271045           0.216662   0.126444  \n",
       "Do_you                    0.015114      0.187942           0.127931   0.094384  \n",
       "Time                      0.001534      0.010031           0.025632   0.111607  \n",
       "Time_spent                0.043754      0.266649           0.245466   0.134948  \n",
       "Balanced_diet             1.000000      0.247705           0.056144   0.074825  \n",
       "Health_level              0.247705      1.000000           0.147364   0.119838  \n",
       "Recommend_fitness         0.056144      0.147364           1.000000   0.099764  \n",
       "Equipment                 0.074825      0.119838           0.099764   1.000000  "
      ]
     },
     "execution_count": 536,
     "metadata": {},
     "output_type": "execute_result"
    }
   ],
   "source": [
    "# Finding Correlations between the data\n",
    "\n",
    "correlations = df1.corr()\n",
    "correlations"
   ]
  },
  {
   "cell_type": "code",
   "execution_count": 537,
   "metadata": {
    "scrolled": false
   },
   "outputs": [
    {
     "data": {
      "text/plain": [
       "<AxesSubplot:>"
      ]
     },
     "execution_count": 537,
     "metadata": {},
     "output_type": "execute_result"
    },
    {
     "data": {
      "image/png": "[encoded data removed]",
      "text/plain": [
       "<Figure size 432x288 with 2 Axes>"
      ]
     },
     "metadata": {
      "needs_background": "light"
     },
     "output_type": "display_data"
    }
   ],
   "source": [
    "# Plotting the correlation data table on a Heatmap\n",
    "\n",
    "sns.heatmap(correlations, cmap = 'plasma')"
   ]
  },
  {
   "cell_type": "code",
   "execution_count": 538,
   "metadata": {},
   "outputs": [],
   "source": [
    "# Best correlation between (Time Spent and Regularity) = 0.547742 and (Health Level and Fitness Level) = 0.540555"
   ]
  },
  {
   "cell_type": "markdown",
   "metadata": {},
   "source": [
    "# 5. Applying Machine Learning Models and Comparing them"
   ]
  },
  {
   "cell_type": "markdown",
   "metadata": {},
   "source": [
    "## 5.1. Importing Libraries"
   ]
  },
  {
   "cell_type": "code",
   "execution_count": 539,
   "metadata": {},
   "outputs": [],
   "source": [
    "# Import necessary machine learning libraries (SciKit)\n",
    "\n",
    "import sklearn\n",
    "from sklearn.model_selection import cross_val_predict\n",
    "from sklearn.model_selection import cross_val_score\n",
    "from sklearn.model_selection import cross_validate\n",
    "from sklearn.model_selection import train_test_split\n",
    "from sklearn.linear_model import LinearRegression\n",
    "from sklearn.ensemble import RandomForestRegressor\n",
    "from sklearn.tree import DecisionTreeRegressor\n",
    "from sklearn.model_selection import RandomizedSearchCV\n",
    "from sklearn.model_selection import GridSearchCV\n",
    "from sklearn.linear_model import LinearRegression\n",
    "from sklearn.preprocessing import RobustScaler"
   ]
  },
  {
   "cell_type": "code",
   "execution_count": 540,
   "metadata": {},
   "outputs": [],
   "source": [
    "# Splitting the Input (X) and Output (y) Variables\n",
    "\n",
    "X = df1.drop('Health_level', axis = 1)\n",
    "y = df1['Health_level']"
   ]
  },
  {
   "cell_type": "code",
   "execution_count": 541,
   "metadata": {},
   "outputs": [],
   "source": [
    "# Transform to array size\n",
    "# Feature scaling\n",
    "\n",
    "scaler = RobustScaler()\n",
    "df1= scaler.fit_transform(df1.astype(np.float64))"
   ]
  },
  {
   "cell_type": "markdown",
   "metadata": {},
   "source": [
    "## 5.2. Splitting Data"
   ]
  },
  {
   "cell_type": "code",
   "execution_count": 542,
   "metadata": {},
   "outputs": [],
   "source": [
    "# Splitting into Training and Testing Datasets\n",
    "## 5.1. Importing Libraries\n",
    "from sklearn.model_selection import train_test_split\n",
    "x_train, x_test, y_train, y_test = train_test_split(X,y, test_size = 0.4, random_state= 42)"
   ]
  },
  {
   "cell_type": "markdown",
   "metadata": {},
   "source": [
    "## 5.3. Fitting the Data into the Models (Decision Tree, Random Forest and Linear Regression)"
   ]
  },
  {
   "cell_type": "code",
   "execution_count": 546,
   "metadata": {},
   "outputs": [
    {
     "data": {
      "text/plain": [
       "LinearRegression(n_jobs=-1)"
      ]
     },
     "execution_count": 546,
     "metadata": {},
     "output_type": "execute_result"
    }
   ],
   "source": [
    "# Fit Decision Tree\n",
    "\n",
    "tree = DecisionTreeRegressor()\n",
    "tree.fit(x_train, y_train)\n",
    "\n",
    "# Fit Random Forest\n",
    "\n",
    "forest = RandomForestRegressor(n_jobs=-1)\n",
    "forest.fit(x_train, y_train)\n",
    "\n",
    "# Fit Linear Regression\n",
    "\n",
    "lin_reg = LinearRegression(n_jobs=-1)\n",
    "lin_reg.fit(x_train, y_train)"
   ]
  },
  {
   "cell_type": "markdown",
   "metadata": {},
   "source": [
    "## 5.4. Testing the Trained Data"
   ]
  },
  {
   "cell_type": "code",
   "execution_count": 547,
   "metadata": {},
   "outputs": [
    {
     "name": "stdout",
     "output_type": "stream",
     "text": [
      "RMSE of lin_reg = 0.62\n",
      "RMSE of random forest = 0.25\n",
      "RMSE of decision tree = 0.04\n"
     ]
    }
   ],
   "source": [
    "# Testing on Trained Data with Mean Square Error (MSE) \n",
    "\n",
    "models= [('lin_reg', lin_reg), ('random forest', forest), ('decision tree', tree)]\n",
    "from sklearn.metrics import mean_squared_error\n",
    "for i, model in models:    \n",
    "    predictions = model.predict(x_train)\n",
    "    MSE = mean_squared_error(y_train, predictions)\n",
    "    RMSE = np.sqrt(MSE)\n",
    "    msg = \"%s = %.2f\" % (i, round(RMSE, 2))\n",
    "    print('RMSE of', msg)"
   ]
  },
  {
   "cell_type": "code",
   "execution_count": 548,
   "metadata": {},
   "outputs": [
    {
     "name": "stdout",
     "output_type": "stream",
     "text": [
      "Accuracy of lin_reg= 83.21 %\n",
      "Accuracy of random forest= 93.41 %\n",
      "Accuracy of decision tree= 99.91 %\n"
     ]
    }
   ],
   "source": [
    "# Testing on Trained Data with Mean Absolute Percentage Error (MAPE)\n",
    "\n",
    "for i, model in models:\n",
    "    # Make predictions on train data\n",
    "    predictions = model.predict(x_train)\n",
    "    # Performance metrics\n",
    "    errors = abs(predictions - y_train)\n",
    "    # Calculate mean absolute percentage error (MAPE)\n",
    "    mape = np.mean(100 * (errors / y_train))\n",
    "    # Calculate and display accuracy\n",
    "    accuracy = 100 - mape    \n",
    "    #print result\n",
    "    msg = \"%s= %.2f\"% (i, round(accuracy, 2))\n",
    "    print('Accuracy of', msg,'%')"
   ]
  },
  {
   "cell_type": "markdown",
   "metadata": {},
   "source": [
    "## 5.5. Comparing Models by Cross Validation"
   ]
  },
  {
   "cell_type": "code",
   "execution_count": 573,
   "metadata": {},
   "outputs": [],
   "source": [
    "# Comparing the 3 Models\n",
    "\n",
    "models= [('lin_reg', lin_reg), ('forest', forest), ('dt', tree)]\n",
    "scoring = ['neg_mean_squared_error', 'neg_mean_absolute_error', 'r2']\n",
    "\n",
    "# Results generated by correlating each model with the scoring criteria using Cross Validation (10 Folds)\n",
    "\n",
    "results= []\n",
    "metric= []\n",
    "for name, model in models:\n",
    "    for i in scoring:\n",
    "        scores = cross_validate(model, x_train, y_train, scoring=i, cv=10, return_train_score=True)\n",
    "        results.append(scores)"
   ]
  },
  {
   "cell_type": "code",
   "execution_count": 574,
   "metadata": {},
   "outputs": [
    {
     "data": {
      "text/plain": [
       "{'fit_time': array([0.00599957, 0.00599766, 0.00499725, 0.00700021, 0.00800252,\n",
       "        0.00699258, 0.00900102, 0.00799918, 0.00900102, 0.00800085]),\n",
       " 'score_time': array([0.00300145, 0.00600171, 0.0079987 , 0.00399852, 0.00299644,\n",
       "        0.00400233, 0.00299835, 0.00399995, 0.00399923, 0.00299883]),\n",
       " 'test_score': array([-0.56465517, -0.51131466, -0.39912281, -0.60323887, -0.45423729,\n",
       "        -0.85851648, -0.02439024, -0.03846154, -0.24878049, -0.28205128]),\n",
       " 'train_score': array([0.99721554, 0.99721554, 1.        , 0.99720176, 0.99712739,\n",
       "        1.        , 0.99699214, 0.99712386, 0.99713147, 0.99712386])}"
      ]
     },
     "execution_count": 574,
     "metadata": {},
     "output_type": "execute_result"
    }
   ],
   "source": [
    "# Example of stored results\n",
    "\n",
    "results[8]"
   ]
  },
  {
   "cell_type": "code",
   "execution_count": 575,
   "metadata": {},
   "outputs": [],
   "source": [
    "# Computing the mean and standard deviation for each computation for easier comparison\n",
    "\n",
    "# For Linear Regression\n",
    "\n",
    "LR_RMSE_mean = np.sqrt(-results[0]['test_score'].mean())\n",
    "LR_RMSE_std= results[0]['test_score'].std()\n",
    "LR_MAE_mean = -results[1]['test_score'].mean()\n",
    "LR_MAE_std= results[1]['test_score'].std()\n",
    "LR_r2_mean = results[2]['test_score'].mean()\n",
    "LR_r2_std = results[2]['test_score'].std()\n",
    "\n",
    "# For Random Forest\n",
    "RF_RMSE_mean = np.sqrt(-results[3]['test_score'].mean())\n",
    "RF_RMSE_std= results[3]['test_score'].std()\n",
    "RF_MAE_mean = -results[4]['test_score'].mean()\n",
    "RF_MAE_std= results[4]['test_score'].std()\n",
    "RF_r2_mean = results[5]['test_score'].mean()\n",
    "RF_r2_std = results[5]['test_score'].std()\n",
    "\n",
    "# For Decision Tree\n",
    "DT_RMSE_mean = np.sqrt(-results[6]['test_score'].mean())\n",
    "DT_RMSE_std= results[6]['test_score'].std()\n",
    "DT_MAE_mean = -results[7]['test_score'].mean()\n",
    "DT_MAE_std= results[7]['test_score'].std()\n",
    "DT_r2_mean = results[8]['test_score'].mean()\n",
    "DT_r2_std = results[8]['test_score'].std()"
   ]
  },
  {
   "cell_type": "code",
   "execution_count": 576,
   "metadata": {},
   "outputs": [
    {
     "data": {
      "text/html": [
       "<div>\n",
       "<style scoped>\n",
       "    .dataframe tbody tr th:only-of-type {\n",
       "        vertical-align: middle;\n",
       "    }\n",
       "\n",
       "    .dataframe tbody tr th {\n",
       "        vertical-align: top;\n",
       "    }\n",
       "\n",
       "    .dataframe thead th {\n",
       "        text-align: right;\n",
       "    }\n",
       "</style>\n",
       "<table border=\"1\" class=\"dataframe\">\n",
       "  <thead>\n",
       "    <tr style=\"text-align: right;\">\n",
       "      <th></th>\n",
       "      <th>Model</th>\n",
       "      <th>RMSE_mean</th>\n",
       "      <th>RMSE_std</th>\n",
       "      <th>MAE_mean</th>\n",
       "      <th>MAE_std</th>\n",
       "      <th>r2_mean</th>\n",
       "      <th>r2_std</th>\n",
       "    </tr>\n",
       "  </thead>\n",
       "  <tbody>\n",
       "    <tr>\n",
       "      <th>0</th>\n",
       "      <td>Linear Regression</td>\n",
       "      <td>0.656230</td>\n",
       "      <td>0.122276</td>\n",
       "      <td>0.515683</td>\n",
       "      <td>0.071092</td>\n",
       "      <td>0.253405</td>\n",
       "      <td>0.168042</td>\n",
       "    </tr>\n",
       "    <tr>\n",
       "      <th>1</th>\n",
       "      <td>Random Forest</td>\n",
       "      <td>0.672890</td>\n",
       "      <td>0.113360</td>\n",
       "      <td>0.531067</td>\n",
       "      <td>0.077848</td>\n",
       "      <td>0.197326</td>\n",
       "      <td>0.173256</td>\n",
       "    </tr>\n",
       "    <tr>\n",
       "      <th>2</th>\n",
       "      <td>Decision Trees</td>\n",
       "      <td>0.864945</td>\n",
       "      <td>0.129196</td>\n",
       "      <td>0.593513</td>\n",
       "      <td>0.118572</td>\n",
       "      <td>-0.398477</td>\n",
       "      <td>0.245466</td>\n",
       "    </tr>\n",
       "  </tbody>\n",
       "</table>\n",
       "</div>"
      ],
      "text/plain": [
       "               Model  RMSE_mean  RMSE_std  MAE_mean   MAE_std   r2_mean  \\\n",
       "0  Linear Regression   0.656230  0.122276  0.515683  0.071092  0.253405   \n",
       "1      Random Forest   0.672890  0.113360  0.531067  0.077848  0.197326   \n",
       "2     Decision Trees   0.864945  0.129196  0.593513  0.118572 -0.398477   \n",
       "\n",
       "     r2_std  \n",
       "0  0.168042  \n",
       "1  0.173256  \n",
       "2  0.245466  "
      ]
     },
     "execution_count": 576,
     "metadata": {},
     "output_type": "execute_result"
    }
   ],
   "source": [
    "# Storing above values into a dataframe\n",
    "\n",
    "modelDF = pd.DataFrame({\n",
    "    'Model'       : ['Linear Regression', 'Random Forest', 'Decision Trees'],\n",
    "    'RMSE_mean'    : [LR_RMSE_mean, RF_RMSE_mean, DT_RMSE_mean],\n",
    "    'RMSE_std'    : [LR_RMSE_std, RF_RMSE_std, DT_RMSE_std],\n",
    "    'MAE_mean'   : [LR_MAE_mean, RF_MAE_mean, DT_MAE_mean],\n",
    "    'MAE_std'   : [LR_MAE_std, RF_MAE_std, DT_MAE_std],\n",
    "    'r2_mean'      : [LR_r2_mean, RF_r2_mean, DT_r2_mean],\n",
    "    'r2_std'      : [LR_r2_std, RF_r2_std, DT_r2_std],\n",
    "    }, columns = ['Model', 'RMSE_mean', 'RMSE_std', 'MAE_mean', 'MAE_std', 'r2_mean', 'r2_std'])\n",
    "\n",
    "modelDF.sort_values(by='r2_mean', ascending=False)"
   ]
  },
  {
   "cell_type": "code",
   "execution_count": 577,
   "metadata": {},
   "outputs": [
    {
     "data": {
      "text/plain": [
       "<seaborn.axisgrid.FacetGrid at 0x233c5f9a790>"
      ]
     },
     "execution_count": 577,
     "metadata": {},
     "output_type": "execute_result"
    },
    {
     "data": {
      "image/png": "[encoded data removed]",
      "text/plain": [
       "<Figure size 360x360 with 1 Axes>"
      ]
     },
     "metadata": {
      "needs_background": "light"
     },
     "output_type": "display_data"
    }
   ],
   "source": [
    "# Plotting CatPlot to view RMSE Mean of each Model\n",
    "\n",
    "sns.catplot(x= 'Model', y= 'RMSE_mean', data= modelDF, kind='bar', legend='True')"
   ]
  },
  {
   "cell_type": "markdown",
   "metadata": {},
   "source": [
    "## Decision Tree results in greater error and variance against both Linear Regression and Random Forest\n",
    "# \n",
    "# 6. Hyperparameter Tuning of Random Forest\n",
    "\n",
    "### Trying different combinations of Random Forest Hyperparameters\n",
    "### Most important Hyperparameters are:\n",
    "### 1) n_estimators = number of trees\n",
    "### 2) max_features = maximum number of features considered for splitting a node\n",
    "### 3) max_depth = maximum number of levels in each decision tree\n",
    "### 4) min_samples_split = minimum number of data points placed in a node before the node is split\n",
    "### 5) min_samples_leaf = minimum number of data points allowed in a leaf node\n",
    "### 6) bootstrap = method for sampling data points (with or without replacement)\n",
    "\n",
    "# \n",
    "## 6.1. Grid Search\n"
   ]
  },
  {
   "cell_type": "code",
   "execution_count": 578,
   "metadata": {},
   "outputs": [
    {
     "data": {
      "text/plain": [
       "GridSearchCV(cv=10, estimator=RandomForestRegressor(n_jobs=-1),\n",
       "             param_grid=[{'bootstrap': [True, False],\n",
       "                          'max_depth': [10, 50, None], 'max_features': [5, 10],\n",
       "                          'n_estimators': [10, 25]}],\n",
       "             scoring='neg_mean_squared_error')"
      ]
     },
     "execution_count": 578,
     "metadata": {},
     "output_type": "execute_result"
    }
   ],
   "source": [
    "# Importing GridSearchCV and setting parameters\n",
    "\n",
    "from sklearn.model_selection import GridSearchCV\n",
    "\n",
    "param_grid = [\n",
    "{'n_estimators': [10, 25], 'max_features': [5, 10], \n",
    " 'max_depth': [10, 50, None], 'bootstrap': [True, False]}\n",
    "]\n",
    "\n",
    "grid_search_forest = GridSearchCV(forest, param_grid, cv=10, scoring='neg_mean_squared_error')\n",
    "grid_search_forest.fit(x_train, y_train)"
   ]
  },
  {
   "cell_type": "code",
   "execution_count": 579,
   "metadata": {},
   "outputs": [
    {
     "name": "stdout",
     "output_type": "stream",
     "text": [
      "0.6720275659709657 {'bootstrap': True, 'max_depth': 10, 'max_features': 5, 'n_estimators': 10}\n",
      "0.6511918848074776 {'bootstrap': True, 'max_depth': 10, 'max_features': 5, 'n_estimators': 25}\n",
      "0.7054447160901257 {'bootstrap': True, 'max_depth': 10, 'max_features': 10, 'n_estimators': 10}\n",
      "0.6863455953297454 {'bootstrap': True, 'max_depth': 10, 'max_features': 10, 'n_estimators': 25}\n",
      "0.6602250656086882 {'bootstrap': True, 'max_depth': 50, 'max_features': 5, 'n_estimators': 10}\n",
      "0.6605462194886956 {'bootstrap': True, 'max_depth': 50, 'max_features': 5, 'n_estimators': 25}\n",
      "0.6981877793936333 {'bootstrap': True, 'max_depth': 50, 'max_features': 10, 'n_estimators': 10}\n",
      "0.6827599458818682 {'bootstrap': True, 'max_depth': 50, 'max_features': 10, 'n_estimators': 25}\n",
      "0.6905673176621262 {'bootstrap': True, 'max_depth': None, 'max_features': 5, 'n_estimators': 10}\n",
      "0.6653433808147035 {'bootstrap': True, 'max_depth': None, 'max_features': 5, 'n_estimators': 25}\n",
      "0.6859688528245685 {'bootstrap': True, 'max_depth': None, 'max_features': 10, 'n_estimators': 10}\n",
      "0.6775947321546789 {'bootstrap': True, 'max_depth': None, 'max_features': 10, 'n_estimators': 25}\n",
      "0.6907223576854068 {'bootstrap': False, 'max_depth': 10, 'max_features': 5, 'n_estimators': 10}\n",
      "0.6850367730249195 {'bootstrap': False, 'max_depth': 10, 'max_features': 5, 'n_estimators': 25}\n",
      "0.7819119812645905 {'bootstrap': False, 'max_depth': 10, 'max_features': 10, 'n_estimators': 10}\n",
      "0.7790449374164673 {'bootstrap': False, 'max_depth': 10, 'max_features': 10, 'n_estimators': 25}\n",
      "0.7158392973434835 {'bootstrap': False, 'max_depth': 50, 'max_features': 5, 'n_estimators': 10}\n",
      "0.6855860686855864 {'bootstrap': False, 'max_depth': 50, 'max_features': 5, 'n_estimators': 25}\n",
      "0.7810914990730871 {'bootstrap': False, 'max_depth': 50, 'max_features': 10, 'n_estimators': 10}\n",
      "0.7709256046330203 {'bootstrap': False, 'max_depth': 50, 'max_features': 10, 'n_estimators': 25}\n",
      "0.722843088561977 {'bootstrap': False, 'max_depth': None, 'max_features': 5, 'n_estimators': 10}\n",
      "0.6809254787241829 {'bootstrap': False, 'max_depth': None, 'max_features': 5, 'n_estimators': 25}\n",
      "0.8078252757474005 {'bootstrap': False, 'max_depth': None, 'max_features': 10, 'n_estimators': 10}\n",
      "0.772620320138494 {'bootstrap': False, 'max_depth': None, 'max_features': 10, 'n_estimators': 25}\n"
     ]
    }
   ],
   "source": [
    "# Viewing how RMSE changes for each of the parameter configurations\n",
    "\n",
    "cvres = grid_search_forest.cv_results_\n",
    "for mean_score, params in zip(cvres[\"mean_test_score\"], cvres[\"params\"]):\n",
    "    print(np.sqrt(-mean_score), params)"
   ]
  },
  {
   "cell_type": "code",
   "execution_count": 580,
   "metadata": {},
   "outputs": [
    {
     "data": {
      "text/plain": [
       "RandomForestRegressor(max_depth=10, max_features=5, n_estimators=25, n_jobs=-1)"
      ]
     },
     "execution_count": 580,
     "metadata": {},
     "output_type": "execute_result"
    }
   ],
   "source": [
    "# Finding the best Model for Grid Search\n",
    "\n",
    "grid_search_forest.best_estimator_"
   ]
  },
  {
   "cell_type": "code",
   "execution_count": 581,
   "metadata": {},
   "outputs": [
    {
     "name": "stdout",
     "output_type": "stream",
     "text": [
      "The best model from grid-search has an accuracy of 92.16 %\n"
     ]
    }
   ],
   "source": [
    "# Viewing the Performance metrics for the model\n",
    "\n",
    "grid_best= grid_search_forest.best_estimator_.predict(x_train)\n",
    "errors = abs(grid_best - y_train)\n",
    "\n",
    "# Calculating Mean Absolute Percentage Error (MAPE)\n",
    "\n",
    "mape = np.mean(100 * (errors / y_train))\n",
    "\n",
    "# Calculating and displaying Accuracy\n",
    "\n",
    "gs_accuracy = 100 - mape    \n",
    "print('The best model from grid-search has an accuracy of', round(gs_accuracy, 2),'%')"
   ]
  },
  {
   "cell_type": "code",
   "execution_count": 582,
   "metadata": {},
   "outputs": [
    {
     "name": "stdout",
     "output_type": "stream",
     "text": [
      "The best model from the grid search has a RMSE of 0.3\n"
     ]
    }
   ],
   "source": [
    "# Calculating Root Mean Square Error (RMSE)\n",
    "\n",
    "grid_mse = mean_squared_error(y_train, grid_best)\n",
    "grid_rmse = np.sqrt(grid_mse)\n",
    "print('The best model from the grid search has a RMSE of', round(grid_rmse, 2))"
   ]
  },
  {
   "cell_type": "markdown",
   "metadata": {},
   "source": [
    "## 6.2. Randomized Search\n",
    "### Grid Search is too costly as many combinations are tested. \n",
    "### It is easier to use Randomized Search in such cases. It evaluates an user defined number of random combinations for each hyperparameter at every iteration. This allows use to test more Hyperparameters."
   ]
  },
  {
   "cell_type": "code",
   "execution_count": 583,
   "metadata": {},
   "outputs": [
    {
     "name": "stdout",
     "output_type": "stream",
     "text": [
      "{'max_depth': [1, 23, 45],\n",
      " 'max_features': ['auto', 'sqrt'],\n",
      " 'min_samples_split': [5, 10],\n",
      " 'n_estimators': [20, 65, 110, 155, 200]}\n"
     ]
    }
   ],
   "source": [
    "# Importing RandomizedSearchCV and Pretty Print and setting the Hyperparameters\n",
    "\n",
    "from sklearn.model_selection import RandomizedSearchCV\n",
    "from pprint import pprint\n",
    "\n",
    "# Number of trees in Random Forest\n",
    "\n",
    "n_estimators = [int(x) for x in np.linspace(start = 20, stop = 200, num = 5)]\n",
    "\n",
    "# Number of features to consider at every split\n",
    "\n",
    "max_features = ['auto', 'sqrt']\n",
    "\n",
    "# Maximum number of levels in tree\n",
    "\n",
    "max_depth = [int(x) for x in np.linspace(1, 45, num = 3)]\n",
    "\n",
    "# Minimum number of samples required to split a node\n",
    "\n",
    "min_samples_split = [5, 10]\n",
    "\n",
    "# Create the random grid\n",
    "\n",
    "random_grid = {'n_estimators': n_estimators,\n",
    "               'max_features': max_features,\n",
    "               'max_depth': max_depth,\n",
    "               'min_samples_split': min_samples_split}\n",
    "\n",
    "pprint(random_grid)"
   ]
  },
  {
   "cell_type": "code",
   "execution_count": 584,
   "metadata": {},
   "outputs": [
    {
     "name": "stdout",
     "output_type": "stream",
     "text": [
      "Fitting 10 folds for each of 10 candidates, totalling 100 fits\n"
     ]
    },
    {
     "name": "stderr",
     "output_type": "stream",
     "text": [
      "[Parallel(n_jobs=-1)]: Using backend LokyBackend with 8 concurrent workers.\n",
      "[Parallel(n_jobs=-1)]: Done  25 tasks      | elapsed:    1.0s\n",
      "[Parallel(n_jobs=-1)]: Done 100 out of 100 | elapsed:   11.1s finished\n"
     ]
    },
    {
     "data": {
      "text/plain": [
       "RandomizedSearchCV(cv=10, estimator=RandomForestRegressor(n_jobs=-1), n_jobs=-1,\n",
       "                   param_distributions={'max_depth': [1, 23, 45],\n",
       "                                        'max_features': ['auto', 'sqrt'],\n",
       "                                        'min_samples_split': [5, 10],\n",
       "                                        'n_estimators': [20, 65, 110, 155,\n",
       "                                                         200]},\n",
       "                   random_state=42, scoring='neg_mean_squared_error',\n",
       "                   verbose=2)"
      ]
     },
     "execution_count": 584,
     "metadata": {},
     "output_type": "execute_result"
    }
   ],
   "source": [
    "# Using the random grid to search for best Hyperparameters\n",
    "\n",
    "# Random search of parameters, using 3 fold cross validation, \n",
    "# Search across 100 different combinations, and use all available cores\n",
    "\n",
    "rf_random = RandomizedSearchCV(estimator = forest, param_distributions = random_grid, n_iter = 10, cv = 10, \n",
    "                               verbose=2, random_state=42, n_jobs = -1, scoring='neg_mean_squared_error')\n",
    "\n",
    "# Fit the random search model\n",
    "\n",
    "rf_random.fit(x_train, y_train)"
   ]
  },
  {
   "cell_type": "code",
   "execution_count": 585,
   "metadata": {},
   "outputs": [
    {
     "name": "stdout",
     "output_type": "stream",
     "text": [
      "0.6946913569096737 {'n_estimators': 20, 'min_samples_split': 5, 'max_features': 'auto', 'max_depth': 1}\n",
      "0.6976822302490109 {'n_estimators': 20, 'min_samples_split': 10, 'max_features': 'auto', 'max_depth': 1}\n",
      "0.6522996416381917 {'n_estimators': 65, 'min_samples_split': 10, 'max_features': 'sqrt', 'max_depth': 23}\n",
      "0.6732927158046033 {'n_estimators': 20, 'min_samples_split': 10, 'max_features': 'auto', 'max_depth': 45}\n",
      "0.7272269508290946 {'n_estimators': 155, 'min_samples_split': 5, 'max_features': 'sqrt', 'max_depth': 1}\n",
      "0.646035017905784 {'n_estimators': 200, 'min_samples_split': 5, 'max_features': 'sqrt', 'max_depth': 45}\n",
      "0.6474666717685593 {'n_estimators': 155, 'min_samples_split': 5, 'max_features': 'sqrt', 'max_depth': 23}\n",
      "0.6605007235644116 {'n_estimators': 155, 'min_samples_split': 10, 'max_features': 'auto', 'max_depth': 45}\n",
      "0.7220903581369967 {'n_estimators': 110, 'min_samples_split': 5, 'max_features': 'sqrt', 'max_depth': 1}\n",
      "0.6503949479582654 {'n_estimators': 110, 'min_samples_split': 10, 'max_features': 'sqrt', 'max_depth': 45}\n"
     ]
    }
   ],
   "source": [
    "# Viewing how RMSE changes for each of the parameter configurations\n",
    "\n",
    "cvres2 = rf_random.cv_results_\n",
    "for mean_score, params in zip(cvres2[\"mean_test_score\"], cvres2[\"params\"]):\n",
    "    print(np.sqrt(-mean_score), params)\n"
   ]
  },
  {
   "cell_type": "code",
   "execution_count": 586,
   "metadata": {},
   "outputs": [
    {
     "data": {
      "text/plain": [
       "RandomForestRegressor(max_depth=45, max_features='sqrt', min_samples_split=5,\n",
       "                      n_estimators=200, n_jobs=-1)"
      ]
     },
     "execution_count": 586,
     "metadata": {},
     "output_type": "execute_result"
    }
   ],
   "source": [
    "# Finding the Best Random Model\n",
    "\n",
    "rf_random.best_estimator_"
   ]
  },
  {
   "cell_type": "code",
   "execution_count": 587,
   "metadata": {},
   "outputs": [
    {
     "data": {
      "text/plain": [
       "{'n_estimators': 200,\n",
       " 'min_samples_split': 5,\n",
       " 'max_features': 'sqrt',\n",
       " 'max_depth': 45}"
      ]
     },
     "execution_count": 587,
     "metadata": {},
     "output_type": "execute_result"
    }
   ],
   "source": [
    "# Finding the best combination of Parameters\n",
    "\n",
    "rf_random.best_params_"
   ]
  },
  {
   "cell_type": "code",
   "execution_count": 588,
   "metadata": {},
   "outputs": [
    {
     "data": {
      "text/plain": [
       "RandomForestRegressor(max_depth=45, max_features='sqrt', min_samples_split=5,\n",
       "                      n_estimators=200, n_jobs=-1)"
      ]
     },
     "execution_count": 588,
     "metadata": {},
     "output_type": "execute_result"
    }
   ],
   "source": [
    "#Finding the best Estimator with the Hyperparameters\n",
    "\n",
    "rf_random.best_estimator_"
   ]
  },
  {
   "cell_type": "code",
   "execution_count": 589,
   "metadata": {},
   "outputs": [
    {
     "name": "stdout",
     "output_type": "stream",
     "text": [
      "The best model from the randomized search has an accuracy of 89.15 %\n"
     ]
    }
   ],
   "source": [
    "# Viewing the Performance metrics for the Model\n",
    "\n",
    "random_best= rf_random.best_estimator_.predict(x_train)\n",
    "errors = abs(random_best - y_train)\n",
    "\n",
    "# Calculating Mean Absolute Percentage Error (MAPE)\n",
    "\n",
    "mape = np.mean(100 * (errors / y_train))\n",
    "\n",
    "# Calculating and displaying Accuracy\n",
    "\n",
    "rs_accuracy = 100 - mape    \n",
    "print('The best model from the randomized search has an accuracy of', round(rs_accuracy, 2),'%')"
   ]
  },
  {
   "cell_type": "code",
   "execution_count": 590,
   "metadata": {},
   "outputs": [
    {
     "name": "stdout",
     "output_type": "stream",
     "text": [
      "The best model from the randomized search has a RMSE of 0.4\n"
     ]
    }
   ],
   "source": [
    "# Calculating Root Mean Square Error (RMSE)\n",
    "\n",
    "rand_mse = mean_squared_error(y_train, random_best)\n",
    "rand_rmse = np.sqrt(rand_mse)\n",
    "print('The best model from the randomized search has a RMSE of', round(rand_rmse, 2))"
   ]
  },
  {
   "cell_type": "code",
   "execution_count": 591,
   "metadata": {},
   "outputs": [
    {
     "name": "stdout",
     "output_type": "stream",
     "text": [
      "       Tuning Method  Accuracy  RMSE\n",
      "0        Grid Search     92.16   0.3\n",
      "1  Randomized Search     89.15   0.4\n"
     ]
    }
   ],
   "source": [
    "# Dataframe to Compare Accuracy and RMSE of both HyperParameter Tuning Methods\n",
    "\n",
    "df_Comp = pd.DataFrame({\n",
    "    'Tuning Method'       : ['Grid Search', 'Randomized Search'],\n",
    "    'Accuracy'    : [gs_accuracy, rs_accuracy],\n",
    "    'RMSE'    : [grid_rmse, rand_rmse],\n",
    "    \n",
    "    }, columns = ['Tuning Method', 'Accuracy', 'RMSE'])\n",
    "\n",
    "print(round(df_Comp,2))"
   ]
  },
  {
   "cell_type": "markdown",
   "metadata": {},
   "source": [
    "## Grid Search is more Accurate and results in less Errors than Randomized Search"
   ]
  },
  {
   "cell_type": "markdown",
   "metadata": {},
   "source": [
    "# 7. Evaluating Model Performance and Parameters "
   ]
  },
  {
   "cell_type": "code",
   "execution_count": 592,
   "metadata": {},
   "outputs": [
    {
     "name": "stdout",
     "output_type": "stream",
     "text": [
      "    importance              feature\n",
      "0     0.303074        Fitness_level\n",
      "1     0.116654           Regularity\n",
      "2     0.101462        Balanced_diet\n",
      "3     0.096016           Time_spent\n",
      "4     0.090913  Exercise_importance\n",
      "5     0.069147            Age_range\n",
      "6     0.066536               Do_you\n",
      "7     0.047856               Gender\n",
      "8     0.041305                 Time\n",
      "9     0.035696    Recommend_fitness\n",
      "10    0.031341            Equipment\n"
     ]
    }
   ],
   "source": [
    "# Extracting the numerical values of feature importance from the grid search\n",
    "\n",
    "importances = rf_random.best_estimator_.feature_importances_\n",
    "\n",
    "# Creating a feature list from the original dataset (list of columns)\n",
    "\n",
    "feature_list = list(X.columns)\n",
    "\n",
    "# Creating a list of tuples\n",
    "\n",
    "feature_importance= sorted(zip(importances, feature_list), reverse=True)\n",
    "\n",
    "# Creating two lists from the previous list of tuples\n",
    "\n",
    "df_imp = pd.DataFrame(feature_importance, columns=['importance', 'feature'])\n",
    "importance= list(df_imp['importance'])\n",
    "feature= list(df_imp['feature'])\n",
    "\n",
    "# \n",
    "print(df_imp)"
   ]
  },
  {
   "cell_type": "code",
   "execution_count": 593,
   "metadata": {},
   "outputs": [
    {
     "data": {
      "image/png": "[encoded data removed]",
      "text/plain": [
       "<Figure size 1080x720 with 1 Axes>"
      ]
     },
     "metadata": {
      "needs_background": "light"
     },
     "output_type": "display_data"
    }
   ],
   "source": [
    "# Setting the style\n",
    "\n",
    "plt.style.use('bmh')\n",
    "\n",
    "# List of x locations for plotting\n",
    "\n",
    "x_values = list(range(len(feature_importance)))\n",
    "\n",
    "# Plotting a Bar Chart\n",
    "plt.figure(figsize=(15,10))\n",
    "plt.bar(x_values, importance, orientation = 'vertical')\n",
    "# Tick labels for x axis\n",
    "plt.xticks(x_values, feature, rotation='vertical')\n",
    "# Axis labels and title\n",
    "plt.ylabel('Importance'); plt.xlabel('Variable'); plt.title('Variable Importances');"
   ]
  },
  {
   "cell_type": "code",
   "execution_count": 594,
   "metadata": {},
   "outputs": [
    {
     "name": "stdout",
     "output_type": "stream",
     "text": [
      "The final RMSE on the test set is 0.66\n"
     ]
    }
   ],
   "source": [
    "# Using Best Estimator to find Performance Metrics of Test Set\n",
    "\n",
    "final_model = rf_random.best_estimator_\n",
    "\n",
    "# Predicting Test set results\n",
    "\n",
    "final_pred = final_model.predict(x_test)\n",
    "final_mse = mean_squared_error(y_test, final_pred)\n",
    "final_rmse = np.sqrt(final_mse)\n",
    "print('The final RMSE on the test set is', round(final_rmse, 2))"
   ]
  },
  {
   "cell_type": "code",
   "execution_count": 595,
   "metadata": {},
   "outputs": [
    {
     "name": "stdout",
     "output_type": "stream",
     "text": [
      "The best model achieves on the test set an accuracy of 80.44 %\n"
     ]
    }
   ],
   "source": [
    "# Calculating the accuracy\n",
    "\n",
    "errors = abs(final_pred - y_test)\n",
    "\n",
    "# Calculating the Mean Absolute Percentage Error (MAPE)\n",
    "\n",
    "mape = np.mean(100 * (errors / y_test))\n",
    "\n",
    "# Calculate and display accuracy\n",
    "\n",
    "accuracy = 100 - mape\n",
    "print('The best model achieves on the test set an accuracy of', round(accuracy, 2),'%')"
   ]
  },
  {
   "cell_type": "markdown",
   "metadata": {},
   "source": [
    "## 7.1. Comparing Training and Testing Results"
   ]
  },
  {
   "cell_type": "code",
   "execution_count": 596,
   "metadata": {},
   "outputs": [
    {
     "data": {
      "text/plain": [
       "Text(0.5, 0, 'Tree depth')"
      ]
     },
     "execution_count": 596,
     "metadata": {},
     "output_type": "execute_result"
    },
    {
     "data": {
      "image/png": "[encoded data removed]",
      "text/plain": [
       "<Figure size 432x288 with 1 Axes>"
      ]
     },
     "metadata": {
      "needs_background": "light"
     },
     "output_type": "display_data"
    }
   ],
   "source": [
    "# Comparing Accuracy of Training and Test Results\n",
    "\n",
    "max_depths = np.linspace(1, 50, 50, endpoint=True)\n",
    "\n",
    "train_results = []\n",
    "test_results = []\n",
    "\n",
    "for i in max_depths:\n",
    "    dt = RandomForestRegressor(max_depth=i)\n",
    "    dt.fit(x_train, y_train)\n",
    "    \n",
    "    # Computing Accuracy for Train data\n",
    "    \n",
    "    housing_tree = dt.predict(x_train)\n",
    "    errors = abs(housing_tree - y_train)\n",
    "    \n",
    "    # Calculating Mean Absolute Percentage Error (MAPE)\n",
    "    \n",
    "    mape = 100 * (errors / y_train)\n",
    "    \n",
    "    # Calculating and Displaying Accuracy\n",
    "    \n",
    "    accuracy = 100 - np.mean(mape)\n",
    "    \n",
    "    # Appending results of Accuracy\n",
    "    \n",
    "    train_results.append(accuracy)\n",
    "    \n",
    "    \n",
    "    \n",
    "    # Computing Accuracy for Test data\n",
    "    \n",
    "    housing_tree = dt.predict(x_test)\n",
    "    errors = abs(housing_tree - y_test)\n",
    "    \n",
    "    # Calculating Mean Absolute Percentage Error (MAPE)\n",
    "    \n",
    "    mape = 100 * (errors / y_test)\n",
    "    \n",
    "    # Calculating and Displaying Accuracy\n",
    "\n",
    "    accuracy = 100 - np.mean(mape)\n",
    "    \n",
    "    # Appending results of Accuracy\n",
    "    \n",
    "    test_results.append(accuracy)\n",
    "\n",
    "# Plotting the Comparison on a Line Graph\n",
    "    \n",
    "from matplotlib.legend_handler import HandlerLine2D\n",
    "line1, = plt.plot(max_depths, train_results, 'b', label='Train accuracy')\n",
    "line2, = plt.plot(max_depths, test_results, 'r', label= 'Test accuracy')\n",
    "\n",
    "plt.legend(handler_map={line1: HandlerLine2D(numpoints=2)})\n",
    "plt.ylabel('Accuracy score')\n",
    "plt.xlabel('Tree depth')"
   ]
  },
  {
   "cell_type": "code",
   "execution_count": null,
   "metadata": {},
   "outputs": [],
   "source": []
  }
 ],
 "metadata": {
  "kernelspec": {
   "display_name": "Python 3",
   "language": "python",
   "name": "python3"
  },
  "language_info": {
   "codemirror_mode": {
    "name": "ipython",
    "version": 3
   },
   "file_extension": ".py",
   "mimetype": "text/x-python",
   "name": "python",
   "nbconvert_exporter": "python",
   "pygments_lexer": "ipython3",
   "version": "3.8.5"
  }
 },
 "nbformat": 4,
 "nbformat_minor": 4
}
